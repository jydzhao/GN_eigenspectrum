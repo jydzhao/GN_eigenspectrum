{
 "cells": [
  {
   "cell_type": "markdown",
   "metadata": {
    "collapsed": true
   },
   "source": [
    "# PyTorch for CIFAR10\n",
    "We test ResNet classifier.\n",
    "First init some basic environment."
   ]
  },
  {
   "cell_type": "code",
   "execution_count": 3,
   "metadata": {},
   "outputs": [],
   "source": [
    "import matplotlib.pyplot as plt\n",
    "\n",
    "%matplotlib inline\n",
    "plt.rcParams['figure.figsize'] = (10.0, 8.0) # set default size of plots\n",
    "plt.rcParams['image.interpolation'] = 'nearest'\n",
    "plt.rcParams['image.cmap'] = 'gray'\n",
    "\n",
    "%load_ext autoreload\n",
    "%autoreload 2"
   ]
  },
  {
   "cell_type": "markdown",
   "metadata": {},
   "source": [
    "# resnet32 classifier"
   ]
  },
  {
   "cell_type": "code",
   "execution_count": 4,
   "metadata": {
    "scrolled": true
   },
   "outputs": [
    {
     "name": "stdout",
     "output_type": "stream",
     "text": [
      "_ResNet(\n",
      "  (conv1): Sequential(\n",
      "    (0): Conv2d(3, 16, kernel_size=(3, 3), stride=(1, 1), padding=(1, 1), bias=False)\n",
      "    (1): BatchNorm2d(16, eps=1e-05, momentum=0.1, affine=True, track_running_stats=True)\n",
      "    (2): ReLU(inplace=True)\n",
      "  )\n",
      "  (layer1): Sequential(\n",
      "    (0): _BasicBlock(\n",
      "      (conv_bn_relu1): Sequential(\n",
      "        (0): Conv2d(16, 16, kernel_size=(3, 3), stride=(1, 1), padding=(1, 1), bias=False)\n",
      "        (1): BatchNorm2d(16, eps=1e-05, momentum=0.1, affine=True, track_running_stats=True)\n",
      "        (2): ReLU(inplace=True)\n",
      "      )\n",
      "      (conv_bn2): Sequential(\n",
      "        (0): Conv2d(16, 16, kernel_size=(3, 3), stride=(1, 1), padding=(1, 1), bias=False)\n",
      "        (1): BatchNorm2d(16, eps=1e-05, momentum=0.1, affine=True, track_running_stats=True)\n",
      "      )\n",
      "      (relu_out): ReLU(inplace=True)\n",
      "    )\n",
      "    (1): _BasicBlock(\n",
      "      (conv_bn_relu1): Sequential(\n",
      "        (0): Conv2d(16, 16, kernel_size=(3, 3), stride=(1, 1), padding=(1, 1), bias=False)\n",
      "        (1): BatchNorm2d(16, eps=1e-05, momentum=0.1, affine=True, track_running_stats=True)\n",
      "        (2): ReLU(inplace=True)\n",
      "      )\n",
      "      (conv_bn2): Sequential(\n",
      "        (0): Conv2d(16, 16, kernel_size=(3, 3), stride=(1, 1), padding=(1, 1), bias=False)\n",
      "        (1): BatchNorm2d(16, eps=1e-05, momentum=0.1, affine=True, track_running_stats=True)\n",
      "      )\n",
      "      (relu_out): ReLU(inplace=True)\n",
      "    )\n",
      "    (2): _BasicBlock(\n",
      "      (conv_bn_relu1): Sequential(\n",
      "        (0): Conv2d(16, 16, kernel_size=(3, 3), stride=(1, 1), padding=(1, 1), bias=False)\n",
      "        (1): BatchNorm2d(16, eps=1e-05, momentum=0.1, affine=True, track_running_stats=True)\n",
      "        (2): ReLU(inplace=True)\n",
      "      )\n",
      "      (conv_bn2): Sequential(\n",
      "        (0): Conv2d(16, 16, kernel_size=(3, 3), stride=(1, 1), padding=(1, 1), bias=False)\n",
      "        (1): BatchNorm2d(16, eps=1e-05, momentum=0.1, affine=True, track_running_stats=True)\n",
      "      )\n",
      "      (relu_out): ReLU(inplace=True)\n",
      "    )\n",
      "    (3): _BasicBlock(\n",
      "      (conv_bn_relu1): Sequential(\n",
      "        (0): Conv2d(16, 16, kernel_size=(3, 3), stride=(1, 1), padding=(1, 1), bias=False)\n",
      "        (1): BatchNorm2d(16, eps=1e-05, momentum=0.1, affine=True, track_running_stats=True)\n",
      "        (2): ReLU(inplace=True)\n",
      "      )\n",
      "      (conv_bn2): Sequential(\n",
      "        (0): Conv2d(16, 16, kernel_size=(3, 3), stride=(1, 1), padding=(1, 1), bias=False)\n",
      "        (1): BatchNorm2d(16, eps=1e-05, momentum=0.1, affine=True, track_running_stats=True)\n",
      "      )\n",
      "      (relu_out): ReLU(inplace=True)\n",
      "    )\n",
      "    (4): _BasicBlock(\n",
      "      (conv_bn_relu1): Sequential(\n",
      "        (0): Conv2d(16, 16, kernel_size=(3, 3), stride=(1, 1), padding=(1, 1), bias=False)\n",
      "        (1): BatchNorm2d(16, eps=1e-05, momentum=0.1, affine=True, track_running_stats=True)\n",
      "        (2): ReLU(inplace=True)\n",
      "      )\n",
      "      (conv_bn2): Sequential(\n",
      "        (0): Conv2d(16, 16, kernel_size=(3, 3), stride=(1, 1), padding=(1, 1), bias=False)\n",
      "        (1): BatchNorm2d(16, eps=1e-05, momentum=0.1, affine=True, track_running_stats=True)\n",
      "      )\n",
      "      (relu_out): ReLU(inplace=True)\n",
      "    )\n",
      "  )\n",
      "  (layer2): Sequential(\n",
      "    (0): _BasicBlock(\n",
      "      (down_sampler): Sequential(\n",
      "        (0): Conv2d(16, 32, kernel_size=(1, 1), stride=(2, 2), bias=False)\n",
      "        (1): BatchNorm2d(32, eps=1e-05, momentum=0.1, affine=True, track_running_stats=True)\n",
      "      )\n",
      "      (conv_bn_relu1): Sequential(\n",
      "        (0): Conv2d(16, 32, kernel_size=(3, 3), stride=(2, 2), padding=(1, 1), bias=False)\n",
      "        (1): BatchNorm2d(32, eps=1e-05, momentum=0.1, affine=True, track_running_stats=True)\n",
      "        (2): ReLU(inplace=True)\n",
      "      )\n",
      "      (conv_bn2): Sequential(\n",
      "        (0): Conv2d(32, 32, kernel_size=(3, 3), stride=(1, 1), padding=(1, 1), bias=False)\n",
      "        (1): BatchNorm2d(32, eps=1e-05, momentum=0.1, affine=True, track_running_stats=True)\n",
      "      )\n",
      "      (relu_out): ReLU(inplace=True)\n",
      "    )\n",
      "    (1): _BasicBlock(\n",
      "      (conv_bn_relu1): Sequential(\n",
      "        (0): Conv2d(32, 32, kernel_size=(3, 3), stride=(1, 1), padding=(1, 1), bias=False)\n",
      "        (1): BatchNorm2d(32, eps=1e-05, momentum=0.1, affine=True, track_running_stats=True)\n",
      "        (2): ReLU(inplace=True)\n",
      "      )\n",
      "      (conv_bn2): Sequential(\n",
      "        (0): Conv2d(32, 32, kernel_size=(3, 3), stride=(1, 1), padding=(1, 1), bias=False)\n",
      "        (1): BatchNorm2d(32, eps=1e-05, momentum=0.1, affine=True, track_running_stats=True)\n",
      "      )\n",
      "      (relu_out): ReLU(inplace=True)\n",
      "    )\n",
      "    (2): _BasicBlock(\n",
      "      (conv_bn_relu1): Sequential(\n",
      "        (0): Conv2d(32, 32, kernel_size=(3, 3), stride=(1, 1), padding=(1, 1), bias=False)\n",
      "        (1): BatchNorm2d(32, eps=1e-05, momentum=0.1, affine=True, track_running_stats=True)\n",
      "        (2): ReLU(inplace=True)\n",
      "      )\n",
      "      (conv_bn2): Sequential(\n",
      "        (0): Conv2d(32, 32, kernel_size=(3, 3), stride=(1, 1), padding=(1, 1), bias=False)\n",
      "        (1): BatchNorm2d(32, eps=1e-05, momentum=0.1, affine=True, track_running_stats=True)\n",
      "      )\n",
      "      (relu_out): ReLU(inplace=True)\n",
      "    )\n",
      "    (3): _BasicBlock(\n",
      "      (conv_bn_relu1): Sequential(\n",
      "        (0): Conv2d(32, 32, kernel_size=(3, 3), stride=(1, 1), padding=(1, 1), bias=False)\n",
      "        (1): BatchNorm2d(32, eps=1e-05, momentum=0.1, affine=True, track_running_stats=True)\n",
      "        (2): ReLU(inplace=True)\n",
      "      )\n",
      "      (conv_bn2): Sequential(\n",
      "        (0): Conv2d(32, 32, kernel_size=(3, 3), stride=(1, 1), padding=(1, 1), bias=False)\n",
      "        (1): BatchNorm2d(32, eps=1e-05, momentum=0.1, affine=True, track_running_stats=True)\n",
      "      )\n",
      "      (relu_out): ReLU(inplace=True)\n",
      "    )\n",
      "    (4): _BasicBlock(\n",
      "      (conv_bn_relu1): Sequential(\n",
      "        (0): Conv2d(32, 32, kernel_size=(3, 3), stride=(1, 1), padding=(1, 1), bias=False)\n",
      "        (1): BatchNorm2d(32, eps=1e-05, momentum=0.1, affine=True, track_running_stats=True)\n",
      "        (2): ReLU(inplace=True)\n",
      "      )\n",
      "      (conv_bn2): Sequential(\n",
      "        (0): Conv2d(32, 32, kernel_size=(3, 3), stride=(1, 1), padding=(1, 1), bias=False)\n",
      "        (1): BatchNorm2d(32, eps=1e-05, momentum=0.1, affine=True, track_running_stats=True)\n",
      "      )\n",
      "      (relu_out): ReLU(inplace=True)\n",
      "    )\n",
      "  )\n",
      "  (layer3): Sequential(\n",
      "    (0): _BasicBlock(\n",
      "      (down_sampler): Sequential(\n",
      "        (0): Conv2d(32, 64, kernel_size=(1, 1), stride=(2, 2), bias=False)\n",
      "        (1): BatchNorm2d(64, eps=1e-05, momentum=0.1, affine=True, track_running_stats=True)\n",
      "      )\n",
      "      (conv_bn_relu1): Sequential(\n",
      "        (0): Conv2d(32, 64, kernel_size=(3, 3), stride=(2, 2), padding=(1, 1), bias=False)\n",
      "        (1): BatchNorm2d(64, eps=1e-05, momentum=0.1, affine=True, track_running_stats=True)\n",
      "        (2): ReLU(inplace=True)\n",
      "      )\n",
      "      (conv_bn2): Sequential(\n",
      "        (0): Conv2d(64, 64, kernel_size=(3, 3), stride=(1, 1), padding=(1, 1), bias=False)\n",
      "        (1): BatchNorm2d(64, eps=1e-05, momentum=0.1, affine=True, track_running_stats=True)\n",
      "      )\n",
      "      (relu_out): ReLU(inplace=True)\n",
      "    )\n",
      "    (1): _BasicBlock(\n",
      "      (conv_bn_relu1): Sequential(\n",
      "        (0): Conv2d(64, 64, kernel_size=(3, 3), stride=(1, 1), padding=(1, 1), bias=False)\n",
      "        (1): BatchNorm2d(64, eps=1e-05, momentum=0.1, affine=True, track_running_stats=True)\n",
      "        (2): ReLU(inplace=True)\n",
      "      )\n",
      "      (conv_bn2): Sequential(\n",
      "        (0): Conv2d(64, 64, kernel_size=(3, 3), stride=(1, 1), padding=(1, 1), bias=False)\n",
      "        (1): BatchNorm2d(64, eps=1e-05, momentum=0.1, affine=True, track_running_stats=True)\n",
      "      )\n",
      "      (relu_out): ReLU(inplace=True)\n",
      "    )\n",
      "    (2): _BasicBlock(\n",
      "      (conv_bn_relu1): Sequential(\n",
      "        (0): Conv2d(64, 64, kernel_size=(3, 3), stride=(1, 1), padding=(1, 1), bias=False)\n",
      "        (1): BatchNorm2d(64, eps=1e-05, momentum=0.1, affine=True, track_running_stats=True)\n",
      "        (2): ReLU(inplace=True)\n",
      "      )\n",
      "      (conv_bn2): Sequential(\n",
      "        (0): Conv2d(64, 64, kernel_size=(3, 3), stride=(1, 1), padding=(1, 1), bias=False)\n",
      "        (1): BatchNorm2d(64, eps=1e-05, momentum=0.1, affine=True, track_running_stats=True)\n",
      "      )\n",
      "      (relu_out): ReLU(inplace=True)\n",
      "    )\n",
      "    (3): _BasicBlock(\n",
      "      (conv_bn_relu1): Sequential(\n",
      "        (0): Conv2d(64, 64, kernel_size=(3, 3), stride=(1, 1), padding=(1, 1), bias=False)\n",
      "        (1): BatchNorm2d(64, eps=1e-05, momentum=0.1, affine=True, track_running_stats=True)\n",
      "        (2): ReLU(inplace=True)\n",
      "      )\n",
      "      (conv_bn2): Sequential(\n",
      "        (0): Conv2d(64, 64, kernel_size=(3, 3), stride=(1, 1), padding=(1, 1), bias=False)\n",
      "        (1): BatchNorm2d(64, eps=1e-05, momentum=0.1, affine=True, track_running_stats=True)\n",
      "      )\n",
      "      (relu_out): ReLU(inplace=True)\n",
      "    )\n",
      "    (4): _BasicBlock(\n",
      "      (conv_bn_relu1): Sequential(\n",
      "        (0): Conv2d(64, 64, kernel_size=(3, 3), stride=(1, 1), padding=(1, 1), bias=False)\n",
      "        (1): BatchNorm2d(64, eps=1e-05, momentum=0.1, affine=True, track_running_stats=True)\n",
      "        (2): ReLU(inplace=True)\n",
      "      )\n",
      "      (conv_bn2): Sequential(\n",
      "        (0): Conv2d(64, 64, kernel_size=(3, 3), stride=(1, 1), padding=(1, 1), bias=False)\n",
      "        (1): BatchNorm2d(64, eps=1e-05, momentum=0.1, affine=True, track_running_stats=True)\n",
      "      )\n",
      "      (relu_out): ReLU(inplace=True)\n",
      "    )\n",
      "  )\n",
      "  (avgpool): AvgPool2d(kernel_size=8, stride=1, padding=0)\n",
      "  (fc): Linear(in_features=64, out_features=10, bias=True)\n",
      ")\n",
      "CPU times: user 1.48 s, sys: 301 ms, total: 1.78 s\n",
      "Wall time: 1.83 s\n"
     ]
    }
   ],
   "source": [
    "%%time\n",
    "import torch.optim as optim\n",
    "import torch.nn as nn\n",
    "import sys\n",
    "import copy\n",
    "import numpy as np\n",
    "import pandas as pd\n",
    "import seaborn as sns\n",
    "sys.path.append(\"cifar10/\")\n",
    "\n",
    "from cifar10.tnt_solver import *\n",
    "from cifar10.classifiers.resnet import resnet32\n",
    "\n",
    "torch.manual_seed(6666)\n",
    "torch.cuda.manual_seed(6666)\n",
    "\n",
    "model_orig = resnet32()\n",
    "print(model_orig)"
   ]
  },
  {
   "cell_type": "code",
   "execution_count": 30,
   "metadata": {},
   "outputs": [
    {
     "data": {
      "text/plain": [
       "466906"
      ]
     },
     "execution_count": 30,
     "metadata": {},
     "output_type": "execute_result"
    }
   ],
   "source": [
    "num_param = sum([len(param.flatten()) for param in model.parameters()])\n",
    "num_param"
   ]
  },
  {
   "cell_type": "code",
   "execution_count": 31,
   "metadata": {},
   "outputs": [
    {
     "name": "stdout",
     "output_type": "stream",
     "text": [
      "Files already downloaded and verified\n",
      "Files already downloaded and verified\n",
      "Files already downloaded and verified\n"
     ]
    }
   ],
   "source": [
    "data = CIFAR10Data(train_split=0.8)\n",
    "train_itr = data.get_train_loader(batch_size=64)"
   ]
  },
  {
   "cell_type": "code",
   "execution_count": 32,
   "metadata": {},
   "outputs": [],
   "source": [
    "def train_network(train_dl, val_dl, modelname, network, epochs, calc_every_x_epoch=10, device='cpu', pruned_weights=0, **kwargs):\n",
    "    \n",
    "    print('calc_every_x_epoch',calc_every_x_epoch)\n",
    "        \n",
    "    opt = optim.SGD(network.parameters(), lr=1e-1, momentum=0.9, weight_decay=1e-4, nesterov=False)\n",
    "        \n",
    "    loss_func = F.cross_entropy\n",
    "\n",
    "    lr_scheduler= optim.lr_scheduler.MultiStepLR(opt, milestones=[91, 137], gamma=0.1)\n",
    "\n",
    "#     history = main(model_orig, opt, epoch=5, model_name='ResNet20', pruned_weights=p_w, zero_masks=zero_masks, loss_fn=loss_fn, dev='cuda:1', lr_scheduler=lr_scheduler)\n",
    "\n",
    "    training_information = pd.DataFrame({\n",
    "                                    'modelname':[],\n",
    "                                    'epoch':[],\n",
    "                                    'loss_mb':[],\n",
    "                                    'acc_mb':[],\n",
    "                                    'loss':[],\n",
    "                                    'acc':[],\n",
    "#                                     'grad_norm_squared':[],\n",
    "                                    'full_grad_norm':[],\n",
    "                                    'pruned_weights':[]\n",
    "                                    })\n",
    "\n",
    "    \n",
    "    opt.zero_grad()\n",
    "\n",
    "    acc = 0\n",
    "    loss = 0\n",
    "    with torch.no_grad():\n",
    "        for xb, yb in train_dl:\n",
    "            xb = xb.to(device)\n",
    "#             print(xb.device)\n",
    "#             print(network.device)\n",
    "            yb = yb.to(device)\n",
    "            acc += accuracy(network(xb), yb)*len(yb)\n",
    "            loss += loss_func(network(xb), yb)\n",
    "        acc = acc/1000\n",
    "        \n",
    "    print('Epoch: 0 \\t loss= %10.3e' %loss)\n",
    "    \n",
    "    print(p_w)\n",
    "    if p_w > 0:\n",
    "        zero_masks = []\n",
    "        \n",
    "        num_pos_param = sum([len(param[torch.abs(param)>0].flatten()) for param in network.parameters()])\n",
    "        print(f'Num non-zero params before = {num_pos_param}')\n",
    "        for param in network.parameters():\n",
    "\n",
    "            param.requires_grad = False\n",
    "            num_param = param.numel()\n",
    "\n",
    "            num_zero_out = int(p_w*num_param)\n",
    "            param_flt = param.flatten()\n",
    "\n",
    "            shp = param.shape\n",
    "\n",
    "\n",
    "            zeroed_indices = torch.topk(torch.abs(param_flt),num_zero_out, largest=False).indices\n",
    "\n",
    "            indices = np.unravel_index(zeroed_indices.detach().cpu(), shp, order='C')\n",
    "\n",
    "            zero_mask = torch.ones(shp, device=device)\n",
    "            \n",
    "            zero_mask[indices]=0\n",
    "            zero_masks.append(zero_mask)\n",
    "\n",
    "            param_flt[zeroed_indices] = 0\n",
    "\n",
    "            param = param_flt.reshape(shp)\n",
    "        \n",
    "        num_pos_param = sum([len(param[torch.abs(param)>0].flatten()) for param in network.parameters()])\n",
    "        print(f'Num non-zero params after = {num_pos_param}')\n",
    "\n",
    "        for param in network.parameters():\n",
    "            param.requires_grad = True\n",
    "\n",
    "    for epoch in tqdm(range(epochs)):\n",
    "        \n",
    "        if epoch%calc_every_x_epoch==0:\n",
    "            \n",
    "            print('saving model')\n",
    "            # print(network.lin_in.weight)\n",
    "            filename = ('%s_' + 'pruned_weights=%.1f' + '_epoch=%d' + '.pt') % (modelname, pruned_weights, epoch)\n",
    "            \n",
    "            torch.save(network, filename)\n",
    "        \n",
    "        \n",
    "        for xb, yb in train_dl:\n",
    "            xb= xb.to(device)\n",
    "            yb= yb.to(device)\n",
    "            pred = network(xb)       \n",
    "            \n",
    "            loss_mb = loss_func(pred, yb)\n",
    "            \n",
    "#             loss.requires_grad_()\n",
    "\n",
    "            loss_mb.backward()\n",
    "            \n",
    "            if pruned_weights > 0:\n",
    "                # Apply the mask to gradients\n",
    "                zz = 0\n",
    "                for param in network.parameters():\n",
    "                    \n",
    "                    param.grad *= zero_masks[zz]\n",
    "                    zz += 1\n",
    "#                 print(sum([len(param[torch.abs(param.grad)>0].flatten()) for param in network.parameters()]))\n",
    "\n",
    "                        \n",
    "            grad_vec = []\n",
    "            for param in network.parameters():\n",
    "                grad_vec = np.append(grad_vec,torch.flatten(param.grad.detach().cpu()))\n",
    "            \n",
    "            acc_mb = accuracy(network(xb), yb).cpu()\n",
    "            loss_mb = loss_func(network(xb), yb).cpu()\n",
    "            \n",
    "                    \n",
    "            training_information.loc[len(training_information)] = [modelname, epoch, loss_mb.detach().numpy(), acc_mb.detach().numpy(), loss.detach().cpu().numpy(),\n",
    "acc.detach().cpu().numpy(), np.linalg.norm(grad_vec), pruned_weights]\n",
    "            \n",
    "            \n",
    "            opt.step()\n",
    "            opt.zero_grad()\n",
    "            \n",
    "        acc = 0\n",
    "        loss = 0\n",
    "        with torch.no_grad():\n",
    "            for xb, yb in train_dl:\n",
    "                xb= xb.to(device)\n",
    "                yb= yb.to(device)\n",
    "                acc += accuracy(network(xb), yb)*len(yb)\n",
    "                loss += loss_func(network(xb), yb)\n",
    "            acc = acc/1000\n",
    "\n",
    "        lr_scheduler.step()\n",
    "        \n",
    "        \n",
    "        \n",
    "        if epoch%int(epochs/10 + 1) ==0:\n",
    "            print('Epoch: %d \\t loss= %10.4e \\t acc= %10.4e' %(epoch+1, loss, acc))\n",
    "                \n",
    "\n",
    "    print('Epoch: %d \\t loss= %10.4e \\t acc= %.2f' %(epoch+1, loss, acc))\n",
    "\n",
    "\n",
    "    # print(network.lin_in.weight)\n",
    "    filename = ('%s_' + 'pruned_weights=%.1f' + '_epoch=%d' + '.pt') % (modelname, pruned_weights, epoch)\n",
    "    # model_scripted.save(filename)\n",
    "    torch.save(network, filename)\n",
    "\n",
    "    return training_information"
   ]
  },
  {
   "cell_type": "code",
   "execution_count": 33,
   "metadata": {},
   "outputs": [],
   "source": [
    "def accuracy(out, yb):\n",
    "    '''\n",
    "    calculates the accurac based on the predicted outputs and true labels y\n",
    "\n",
    "    out: predicted output\n",
    "    yb: true labels y\n",
    "    '''\n",
    "    \n",
    "#     print(out.shape, yb.shape)\n",
    "    preds = torch.argmax(out, axis=1)\n",
    "#     print(preds.shape, yb.shape)\n",
    "#     yb = torch.argmax(yb, axis=1)\n",
    "    \n",
    "#     print(preds[0:5], yb[0:5])\n",
    "    return (preds == yb).float().mean()\n"
   ]
  },
  {
   "cell_type": "code",
   "execution_count": 34,
   "metadata": {},
   "outputs": [
    {
     "name": "stdout",
     "output_type": "stream",
     "text": [
      "0.8\n",
      "Num non-zero params before = 465674\n",
      "Num non-zero params after = 93166\n",
      "calc_every_x_epoch 20\n",
      "Epoch: 0 \t loss=  3.711e+01\n",
      "0.8\n",
      "Num non-zero params before = 93166\n",
      "Num non-zero params after = 93166\n"
     ]
    },
    {
     "name": "stderr",
     "output_type": "stream",
     "text": [
      "\r",
      "  0%|                                                                                                                                                                                         | 0/100 [00:00<?, ?it/s]"
     ]
    },
    {
     "name": "stdout",
     "output_type": "stream",
     "text": [
      "saving model\n"
     ]
    },
    {
     "name": "stderr",
     "output_type": "stream",
     "text": [
      "\r",
      "  1%|█▊                                                                                                                                                                               | 1/100 [00:02<03:38,  2.20s/it]"
     ]
    },
    {
     "name": "stdout",
     "output_type": "stream",
     "text": [
      "Epoch: 1 \t loss= 3.6607e+01 \t acc= 1.8600e-01\n"
     ]
    },
    {
     "name": "stderr",
     "output_type": "stream",
     "text": [
      " 12%|█████████████████████                                                                                                                                                           | 12/100 [00:26<03:11,  2.18s/it]"
     ]
    },
    {
     "name": "stdout",
     "output_type": "stream",
     "text": [
      "Epoch: 12 \t loss= 2.9221e+01 \t acc= 3.2700e-01\n"
     ]
    },
    {
     "name": "stderr",
     "output_type": "stream",
     "text": [
      " 20%|███████████████████████████████████▏                                                                                                                                            | 20/100 [00:43<02:49,  2.12s/it]"
     ]
    },
    {
     "name": "stdout",
     "output_type": "stream",
     "text": [
      "saving model\n"
     ]
    },
    {
     "name": "stderr",
     "output_type": "stream",
     "text": [
      " 23%|████████████████████████████████████████▍                                                                                                                                       | 23/100 [00:49<02:42,  2.11s/it]"
     ]
    },
    {
     "name": "stdout",
     "output_type": "stream",
     "text": [
      "Epoch: 23 \t loss= 2.8591e+01 \t acc= 3.1300e-01\n"
     ]
    },
    {
     "name": "stderr",
     "output_type": "stream",
     "text": [
      " 34%|███████████████████████████████████████████████████████████▊                                                                                                                    | 34/100 [01:13<02:23,  2.17s/it]"
     ]
    },
    {
     "name": "stdout",
     "output_type": "stream",
     "text": [
      "Epoch: 34 \t loss= 2.6253e+01 \t acc= 3.9300e-01\n"
     ]
    },
    {
     "name": "stderr",
     "output_type": "stream",
     "text": [
      " 40%|██████████████████████████████████████████████████████████████████████▍                                                                                                         | 40/100 [01:26<02:09,  2.16s/it]"
     ]
    },
    {
     "name": "stdout",
     "output_type": "stream",
     "text": [
      "saving model\n"
     ]
    },
    {
     "name": "stderr",
     "output_type": "stream",
     "text": [
      " 45%|███████████████████████████████████████████████████████████████████████████████▏                                                                                                | 45/100 [01:37<01:54,  2.09s/it]"
     ]
    },
    {
     "name": "stdout",
     "output_type": "stream",
     "text": [
      "Epoch: 45 \t loss= 2.5298e+01 \t acc= 4.0700e-01\n"
     ]
    },
    {
     "name": "stderr",
     "output_type": "stream",
     "text": [
      " 56%|██████████████████████████████████████████████████████████████████████████████████████████████████▌                                                                             | 56/100 [02:00<01:37,  2.21s/it]"
     ]
    },
    {
     "name": "stdout",
     "output_type": "stream",
     "text": [
      "Epoch: 56 \t loss= 2.5082e+01 \t acc= 4.0900e-01\n"
     ]
    },
    {
     "name": "stderr",
     "output_type": "stream",
     "text": [
      " 60%|█████████████████████████████████████████████████████████████████████████████████████████████████████████▌                                                                      | 60/100 [02:09<01:26,  2.17s/it]"
     ]
    },
    {
     "name": "stdout",
     "output_type": "stream",
     "text": [
      "saving model\n"
     ]
    },
    {
     "name": "stderr",
     "output_type": "stream",
     "text": [
      " 67%|█████████████████████████████████████████████████████████████████████████████████████████████████████████████████████▉                                                          | 67/100 [02:24<01:11,  2.16s/it]"
     ]
    },
    {
     "name": "stdout",
     "output_type": "stream",
     "text": [
      "Epoch: 67 \t loss= 2.3478e+01 \t acc= 4.6600e-01\n"
     ]
    },
    {
     "name": "stderr",
     "output_type": "stream",
     "text": [
      " 78%|█████████████████████████████████████████████████████████████████████████████████████████████████████████████████████████████████████████▎                                      | 78/100 [02:48<00:47,  2.15s/it]"
     ]
    },
    {
     "name": "stdout",
     "output_type": "stream",
     "text": [
      "Epoch: 78 \t loss= 2.2415e+01 \t acc= 4.7000e-01\n"
     ]
    },
    {
     "name": "stderr",
     "output_type": "stream",
     "text": [
      " 80%|████████████████████████████████████████████████████████████████████████████████████████████████████████████████████████████████████████████▊                                   | 80/100 [02:52<00:42,  2.11s/it]"
     ]
    },
    {
     "name": "stdout",
     "output_type": "stream",
     "text": [
      "saving model\n"
     ]
    },
    {
     "name": "stderr",
     "output_type": "stream",
     "text": [
      " 89%|████████████████████████████████████████████████████████████████████████████████████████████████████████████████████████████████████████████████████████████▋                   | 89/100 [03:11<00:24,  2.19s/it]"
     ]
    },
    {
     "name": "stdout",
     "output_type": "stream",
     "text": [
      "Epoch: 89 \t loss= 2.1368e+01 \t acc= 4.8000e-01\n"
     ]
    },
    {
     "name": "stderr",
     "output_type": "stream",
     "text": [
      "100%|███████████████████████████████████████████████████████████████████████████████████████████████████████████████████████████████████████████████████████████████████████████████| 100/100 [03:35<00:00,  2.15s/it]"
     ]
    },
    {
     "name": "stdout",
     "output_type": "stream",
     "text": [
      "Epoch: 100 \t loss= 1.9200e+01 \t acc= 5.4600e-01\n",
      "Epoch: 100 \t loss= 1.9200e+01 \t acc= 0.55\n",
      "0.6\n",
      "Num non-zero params before = 465674\n",
      "Num non-zero params after = 186298\n",
      "calc_every_x_epoch 20\n"
     ]
    },
    {
     "name": "stderr",
     "output_type": "stream",
     "text": [
      "\n"
     ]
    },
    {
     "name": "stdout",
     "output_type": "stream",
     "text": [
      "Epoch: 0 \t loss=  3.778e+01\n",
      "0.6\n",
      "Num non-zero params before = 186298\n",
      "Num non-zero params after = 186298\n"
     ]
    },
    {
     "name": "stderr",
     "output_type": "stream",
     "text": [
      "\r",
      "  0%|                                                                                                                                                                                         | 0/100 [00:00<?, ?it/s]"
     ]
    },
    {
     "name": "stdout",
     "output_type": "stream",
     "text": [
      "saving model\n"
     ]
    },
    {
     "name": "stderr",
     "output_type": "stream",
     "text": [
      "\r",
      "  1%|█▊                                                                                                                                                                               | 1/100 [00:01<03:15,  1.97s/it]"
     ]
    },
    {
     "name": "stdout",
     "output_type": "stream",
     "text": [
      "Epoch: 1 \t loss= 3.4213e+01 \t acc= 1.7500e-01\n"
     ]
    },
    {
     "name": "stderr",
     "output_type": "stream",
     "text": [
      " 12%|█████████████████████                                                                                                                                                           | 12/100 [00:25<03:15,  2.22s/it]"
     ]
    },
    {
     "name": "stdout",
     "output_type": "stream",
     "text": [
      "Epoch: 12 \t loss= 2.7315e+01 \t acc= 3.2900e-01\n"
     ]
    },
    {
     "name": "stderr",
     "output_type": "stream",
     "text": [
      " 20%|███████████████████████████████████▏                                                                                                                                            | 20/100 [00:42<02:49,  2.12s/it]"
     ]
    },
    {
     "name": "stdout",
     "output_type": "stream",
     "text": [
      "saving model\n"
     ]
    },
    {
     "name": "stderr",
     "output_type": "stream",
     "text": [
      " 23%|████████████████████████████████████████▍                                                                                                                                       | 23/100 [00:49<02:43,  2.12s/it]"
     ]
    },
    {
     "name": "stdout",
     "output_type": "stream",
     "text": [
      "Epoch: 23 \t loss= 2.3510e+01 \t acc= 4.5000e-01\n"
     ]
    },
    {
     "name": "stderr",
     "output_type": "stream",
     "text": [
      " 34%|███████████████████████████████████████████████████████████▊                                                                                                                    | 34/100 [01:12<02:20,  2.13s/it]"
     ]
    },
    {
     "name": "stdout",
     "output_type": "stream",
     "text": [
      "Epoch: 34 \t loss= 2.0866e+01 \t acc= 5.3100e-01\n"
     ]
    },
    {
     "name": "stderr",
     "output_type": "stream",
     "text": [
      " 40%|██████████████████████████████████████████████████████████████████████▍                                                                                                         | 40/100 [01:25<02:10,  2.18s/it]"
     ]
    },
    {
     "name": "stdout",
     "output_type": "stream",
     "text": [
      "saving model\n"
     ]
    },
    {
     "name": "stderr",
     "output_type": "stream",
     "text": [
      " 45%|███████████████████████████████████████████████████████████████████████████████▏                                                                                                | 45/100 [01:36<02:00,  2.19s/it]"
     ]
    },
    {
     "name": "stdout",
     "output_type": "stream",
     "text": [
      "Epoch: 45 \t loss= 1.9425e+01 \t acc= 5.6400e-01\n"
     ]
    },
    {
     "name": "stderr",
     "output_type": "stream",
     "text": [
      "Connection is already closed.\n",
      "Connection is already closed.\n",
      "Connection is already closed.\n",
      "Connection is already closed.\n",
      "Connection is already closed.\n",
      "Connection is already closed.\n",
      "Connection is already closed.\n",
      "Connection is already closed.\n",
      "Connection is already closed.\n",
      "Connection is already closed.\n",
      "Connection is already closed.\n",
      "Connection is already closed.\n",
      " 47%|██████████████████████████████████████████████████████████████████████████████████▋                                                                                             | 47/100 [01:40<01:55,  2.17s/it][Errno 111] Connection refused\n",
      "[Errno 111] Connection refused\n",
      "[Errno 111] Connection refused\n",
      "[Errno 111] Connection refused\n",
      "[Errno 111] Connection refused\n",
      "[Errno 111] Connection refused\n",
      "[Errno 111] Connection refused\n",
      "[Errno 111] Connection refused\n",
      "[Errno 111] Connection refused\n",
      "[Errno 111] Connection refused\n",
      "[Errno 111] Connection refused\n",
      "[Errno 111] Connection refused\n",
      " 48%|████████████████████████████████████████████████████████████████████████████████████▍                                                                                           | 48/100 [01:42<01:52,  2.16s/it][Errno 111] Connection refused\n",
      "[Errno 111] Connection refused\n",
      "[Errno 111] Connection refused\n",
      "[Errno 111] Connection refused\n",
      "[Errno 111] Connection refused\n",
      "[Errno 111] Connection refused\n",
      "[Errno 111] Connection refused\n",
      "[Errno 111] Connection refused\n",
      "[Errno 111] Connection refused\n",
      "[Errno 111] Connection refused\n",
      "[Errno 111] Connection refused\n",
      "[Errno 111] Connection refused\n",
      " 50%|████████████████████████████████████████████████████████████████████████████████████████                                                                                        | 50/100 [01:46<01:48,  2.16s/it][Errno 111] Connection refused\n",
      "[Errno 111] Connection refused\n",
      "[Errno 111] Connection refused\n",
      "[Errno 111] Connection refused\n",
      "[Errno 111] Connection refused\n",
      "[Errno 111] Connection refused\n",
      "[Errno 111] Connection refused\n",
      "[Errno 111] Connection refused\n",
      "[Errno 111] Connection refused\n",
      "[Errno 111] Connection refused\n",
      "[Errno 111] Connection refused\n",
      "[Errno 111] Connection refused\n",
      " 51%|█████████████████████████████████████████████████████████████████████████████████████████▊                                                                                      | 51/100 [01:49<01:46,  2.17s/it][Errno 111] Connection refused\n",
      "[Errno 111] Connection refused\n",
      "[Errno 111] Connection refused\n",
      "[Errno 111] Connection refused\n",
      "[Errno 111] Connection refused\n",
      "[Errno 111] Connection refused\n",
      "[Errno 111] Connection refused\n",
      "[Errno 111] Connection refused\n",
      "[Errno 111] Connection refused\n",
      "[Errno 111] Connection refused\n",
      "[Errno 111] Connection refused\n",
      "[Errno 111] Connection refused\n",
      " 52%|███████████████████████████████████████████████████████████████████████████████████████████▌                                                                                    | 52/100 [01:51<01:42,  2.13s/it][Errno 111] Connection refused\n",
      "[Errno 111] Connection refused\n",
      "[Errno 111] Connection refused\n",
      "[Errno 111] Connection refused\n",
      "[Errno 111] Connection refused\n",
      "[Errno 111] Connection refused\n",
      "[Errno 111] Connection refused\n",
      "[Errno 111] Connection refused\n",
      "[Errno 111] Connection refused\n",
      "[Errno 111] Connection refused\n",
      "[Errno 111] Connection refused\n",
      "[Errno 111] Connection refused\n",
      " 54%|███████████████████████████████████████████████████████████████████████████████████████████████                                                                                 | 54/100 [01:55<01:37,  2.11s/it][Errno 111] Connection refused\n",
      "[Errno 111] Connection refused\n",
      "[Errno 111] Connection refused\n",
      "[Errno 111] Connection refused\n",
      "[Errno 111] Connection refused\n",
      "[Errno 111] Connection refused\n",
      "[Errno 111] Connection refused\n",
      "[Errno 111] Connection refused\n",
      "[Errno 111] Connection refused\n",
      "[Errno 111] Connection refused\n",
      "[Errno 111] Connection refused\n",
      "[Errno 111] Connection refused\n",
      " 55%|████████████████████████████████████████████████████████████████████████████████████████████████▊                                                                               | 55/100 [01:57<01:34,  2.09s/it][Errno 111] Connection refused\n",
      "[Errno 111] Connection refused\n",
      "[Errno 111] Connection refused\n",
      "[Errno 111] Connection refused\n",
      "[Errno 111] Connection refused\n",
      "[Errno 111] Connection refused\n",
      "[Errno 111] Connection refused\n",
      "[Errno 111] Connection refused\n",
      "[Errno 111] Connection refused\n",
      "[Errno 111] Connection refused\n",
      "[Errno 111] Connection refused\n",
      "[Errno 111] Connection refused\n",
      " 56%|██████████████████████████████████████████████████████████████████████████████████████████████████▌                                                                             | 56/100 [01:59<01:33,  2.13s/it]"
     ]
    },
    {
     "name": "stdout",
     "output_type": "stream",
     "text": [
      "Epoch: 56 \t loss= 1.6559e+01 \t acc= 6.2700e-01\n"
     ]
    },
    {
     "name": "stderr",
     "output_type": "stream",
     "text": [
      " 60%|█████████████████████████████████████████████████████████████████████████████████████████████████████████▌                                                                      | 60/100 [02:08<01:25,  2.15s/it]"
     ]
    },
    {
     "name": "stdout",
     "output_type": "stream",
     "text": [
      "saving model\n"
     ]
    },
    {
     "name": "stderr",
     "output_type": "stream",
     "text": [
      " 67%|█████████████████████████████████████████████████████████████████████████████████████████████████████████████████████▉                                                          | 67/100 [02:23<01:08,  2.09s/it]"
     ]
    },
    {
     "name": "stdout",
     "output_type": "stream",
     "text": [
      "Epoch: 67 \t loss= 1.6596e+01 \t acc= 6.3000e-01\n"
     ]
    },
    {
     "name": "stderr",
     "output_type": "stream",
     "text": [
      " 78%|█████████████████████████████████████████████████████████████████████████████████████████████████████████████████████████████████████████▎                                      | 78/100 [02:47<00:48,  2.20s/it]"
     ]
    },
    {
     "name": "stdout",
     "output_type": "stream",
     "text": [
      "Epoch: 78 \t loss= 1.4240e+01 \t acc= 6.5500e-01\n"
     ]
    },
    {
     "name": "stderr",
     "output_type": "stream",
     "text": [
      " 80%|████████████████████████████████████████████████████████████████████████████████████████████████████████████████████████████████████████████▊                                   | 80/100 [02:51<00:44,  2.21s/it]"
     ]
    },
    {
     "name": "stdout",
     "output_type": "stream",
     "text": [
      "saving model\n"
     ]
    },
    {
     "name": "stderr",
     "output_type": "stream",
     "text": [
      " 89%|████████████████████████████████████████████████████████████████████████████████████████████████████████████████████████████████████████████████████████████▋                   | 89/100 [03:10<00:23,  2.10s/it]"
     ]
    },
    {
     "name": "stdout",
     "output_type": "stream",
     "text": [
      "Epoch: 89 \t loss= 1.2025e+01 \t acc= 7.3100e-01\n"
     ]
    },
    {
     "name": "stderr",
     "output_type": "stream",
     "text": [
      "100%|███████████████████████████████████████████████████████████████████████████████████████████████████████████████████████████████████████████████████████████████████████████████| 100/100 [03:33<00:00,  2.14s/it]"
     ]
    },
    {
     "name": "stdout",
     "output_type": "stream",
     "text": [
      "Epoch: 100 \t loss= 7.1467e+00 \t acc= 8.5800e-01\n",
      "Epoch: 100 \t loss= 7.1467e+00 \t acc= 0.86\n",
      "0.4\n",
      "Num non-zero params before = 465674\n",
      "Num non-zero params after = 279442\n",
      "calc_every_x_epoch 20\n"
     ]
    },
    {
     "name": "stderr",
     "output_type": "stream",
     "text": [
      "\n"
     ]
    },
    {
     "name": "stdout",
     "output_type": "stream",
     "text": [
      "Epoch: 0 \t loss=  3.800e+01\n",
      "0.4\n",
      "Num non-zero params before = 279442\n",
      "Num non-zero params after = 279442\n"
     ]
    },
    {
     "name": "stderr",
     "output_type": "stream",
     "text": [
      "\r",
      "  0%|                                                                                                                                                                                         | 0/100 [00:00<?, ?it/s]"
     ]
    },
    {
     "name": "stdout",
     "output_type": "stream",
     "text": [
      "saving model\n"
     ]
    },
    {
     "name": "stderr",
     "output_type": "stream",
     "text": [
      "\r",
      "  1%|█▊                                                                                                                                                                               | 1/100 [00:01<03:09,  1.92s/it]"
     ]
    },
    {
     "name": "stdout",
     "output_type": "stream",
     "text": [
      "Epoch: 1 \t loss= 3.5280e+01 \t acc= 1.7400e-01\n"
     ]
    },
    {
     "name": "stderr",
     "output_type": "stream",
     "text": [
      " 12%|█████████████████████                                                                                                                                                           | 12/100 [00:25<03:06,  2.12s/it]"
     ]
    },
    {
     "name": "stdout",
     "output_type": "stream",
     "text": [
      "Epoch: 12 \t loss= 2.7952e+01 \t acc= 3.2000e-01\n"
     ]
    },
    {
     "name": "stderr",
     "output_type": "stream",
     "text": [
      " 20%|███████████████████████████████████▏                                                                                                                                            | 20/100 [00:42<02:50,  2.13s/it]"
     ]
    },
    {
     "name": "stdout",
     "output_type": "stream",
     "text": [
      "saving model\n"
     ]
    },
    {
     "name": "stderr",
     "output_type": "stream",
     "text": [
      " 23%|████████████████████████████████████████▍                                                                                                                                       | 23/100 [00:48<02:41,  2.10s/it]"
     ]
    },
    {
     "name": "stdout",
     "output_type": "stream",
     "text": [
      "Epoch: 23 \t loss= 2.4468e+01 \t acc= 4.4000e-01\n"
     ]
    },
    {
     "name": "stderr",
     "output_type": "stream",
     "text": [
      " 34%|███████████████████████████████████████████████████████████▊                                                                                                                    | 34/100 [01:12<02:25,  2.21s/it]"
     ]
    },
    {
     "name": "stdout",
     "output_type": "stream",
     "text": [
      "Epoch: 34 \t loss= 2.1620e+01 \t acc= 5.0500e-01\n"
     ]
    },
    {
     "name": "stderr",
     "output_type": "stream",
     "text": [
      " 40%|██████████████████████████████████████████████████████████████████████▍                                                                                                         | 40/100 [01:25<02:07,  2.13s/it]"
     ]
    },
    {
     "name": "stdout",
     "output_type": "stream",
     "text": [
      "saving model\n"
     ]
    },
    {
     "name": "stderr",
     "output_type": "stream",
     "text": [
      " 45%|███████████████████████████████████████████████████████████████████████████████▏                                                                                                | 45/100 [01:36<01:59,  2.18s/it]"
     ]
    },
    {
     "name": "stdout",
     "output_type": "stream",
     "text": [
      "Epoch: 45 \t loss= 1.7520e+01 \t acc= 6.1100e-01\n"
     ]
    },
    {
     "name": "stderr",
     "output_type": "stream",
     "text": [
      " 56%|██████████████████████████████████████████████████████████████████████████████████████████████████▌                                                                             | 56/100 [02:01<01:46,  2.42s/it]"
     ]
    },
    {
     "name": "stdout",
     "output_type": "stream",
     "text": [
      "Epoch: 56 \t loss= 1.5368e+01 \t acc= 6.5400e-01\n"
     ]
    },
    {
     "name": "stderr",
     "output_type": "stream",
     "text": [
      " 60%|█████████████████████████████████████████████████████████████████████████████████████████████████████████▌                                                                      | 60/100 [02:10<01:27,  2.19s/it]"
     ]
    },
    {
     "name": "stdout",
     "output_type": "stream",
     "text": [
      "saving model\n"
     ]
    },
    {
     "name": "stderr",
     "output_type": "stream",
     "text": [
      " 67%|█████████████████████████████████████████████████████████████████████████████████████████████████████████████████████▉                                                          | 67/100 [02:25<01:10,  2.15s/it]"
     ]
    },
    {
     "name": "stdout",
     "output_type": "stream",
     "text": [
      "Epoch: 67 \t loss= 1.3256e+01 \t acc= 6.9200e-01\n"
     ]
    },
    {
     "name": "stderr",
     "output_type": "stream",
     "text": [
      " 78%|█████████████████████████████████████████████████████████████████████████████████████████████████████████████████████████████████████████▎                                      | 78/100 [02:48<00:45,  2.08s/it]"
     ]
    },
    {
     "name": "stdout",
     "output_type": "stream",
     "text": [
      "Epoch: 78 \t loss= 1.0685e+01 \t acc= 7.8200e-01\n"
     ]
    },
    {
     "name": "stderr",
     "output_type": "stream",
     "text": [
      " 80%|████████████████████████████████████████████████████████████████████████████████████████████████████████████████████████████████████████████▊                                   | 80/100 [02:52<00:40,  2.04s/it]"
     ]
    },
    {
     "name": "stdout",
     "output_type": "stream",
     "text": [
      "saving model\n"
     ]
    },
    {
     "name": "stderr",
     "output_type": "stream",
     "text": [
      " 89%|████████████████████████████████████████████████████████████████████████████████████████████████████████████████████████████████████████████████████████████▋                   | 89/100 [03:11<00:23,  2.12s/it]"
     ]
    },
    {
     "name": "stdout",
     "output_type": "stream",
     "text": [
      "Epoch: 89 \t loss= 8.8202e+00 \t acc= 8.1600e-01\n"
     ]
    },
    {
     "name": "stderr",
     "output_type": "stream",
     "text": [
      "100%|███████████████████████████████████████████████████████████████████████████████████████████████████████████████████████████████████████████████████████████████████████████████| 100/100 [03:35<00:00,  2.16s/it]"
     ]
    },
    {
     "name": "stdout",
     "output_type": "stream",
     "text": [
      "Epoch: 100 \t loss= 3.2273e+00 \t acc= 9.4000e-01\n",
      "Epoch: 100 \t loss= 3.2273e+00 \t acc= 0.94\n",
      "0.2\n",
      "Num non-zero params before = 465674\n",
      "Num non-zero params after = 372574\n",
      "calc_every_x_epoch 20\n"
     ]
    },
    {
     "name": "stderr",
     "output_type": "stream",
     "text": [
      "\n"
     ]
    },
    {
     "name": "stdout",
     "output_type": "stream",
     "text": [
      "Epoch: 0 \t loss=  3.987e+01\n",
      "0.2\n",
      "Num non-zero params before = 372574\n",
      "Num non-zero params after = 372574\n"
     ]
    },
    {
     "name": "stderr",
     "output_type": "stream",
     "text": [
      "\r",
      "  0%|                                                                                                                                                                                         | 0/100 [00:00<?, ?it/s]"
     ]
    },
    {
     "name": "stdout",
     "output_type": "stream",
     "text": [
      "saving model\n"
     ]
    },
    {
     "name": "stderr",
     "output_type": "stream",
     "text": [
      "\r",
      "  1%|█▊                                                                                                                                                                               | 1/100 [00:02<03:30,  2.13s/it]"
     ]
    },
    {
     "name": "stdout",
     "output_type": "stream",
     "text": [
      "Epoch: 1 \t loss= 3.7117e+01 \t acc= 1.3200e-01\n"
     ]
    },
    {
     "name": "stderr",
     "output_type": "stream",
     "text": [
      " 12%|█████████████████████                                                                                                                                                           | 12/100 [00:25<03:09,  2.15s/it]"
     ]
    },
    {
     "name": "stdout",
     "output_type": "stream",
     "text": [
      "Epoch: 12 \t loss= 2.9594e+01 \t acc= 2.9500e-01\n"
     ]
    },
    {
     "name": "stderr",
     "output_type": "stream",
     "text": [
      " 20%|███████████████████████████████████▏                                                                                                                                            | 20/100 [00:42<02:49,  2.12s/it]"
     ]
    },
    {
     "name": "stdout",
     "output_type": "stream",
     "text": [
      "saving model\n"
     ]
    },
    {
     "name": "stderr",
     "output_type": "stream",
     "text": [
      " 23%|████████████████████████████████████████▍                                                                                                                                       | 23/100 [00:48<02:44,  2.14s/it]"
     ]
    },
    {
     "name": "stdout",
     "output_type": "stream",
     "text": [
      "Epoch: 23 \t loss= 2.5495e+01 \t acc= 4.4400e-01\n"
     ]
    },
    {
     "name": "stderr",
     "output_type": "stream",
     "text": [
      " 34%|███████████████████████████████████████████████████████████▊                                                                                                                    | 34/100 [01:11<02:20,  2.12s/it]"
     ]
    },
    {
     "name": "stdout",
     "output_type": "stream",
     "text": [
      "Epoch: 34 \t loss= 2.1573e+01 \t acc= 5.1500e-01\n"
     ]
    },
    {
     "name": "stderr",
     "output_type": "stream",
     "text": [
      " 40%|██████████████████████████████████████████████████████████████████████▍                                                                                                         | 40/100 [01:24<02:06,  2.11s/it]"
     ]
    },
    {
     "name": "stdout",
     "output_type": "stream",
     "text": [
      "saving model\n"
     ]
    },
    {
     "name": "stderr",
     "output_type": "stream",
     "text": [
      " 45%|███████████████████████████████████████████████████████████████████████████████▏                                                                                                | 45/100 [01:35<02:00,  2.19s/it]"
     ]
    },
    {
     "name": "stdout",
     "output_type": "stream",
     "text": [
      "Epoch: 45 \t loss= 1.8477e+01 \t acc= 5.7600e-01\n"
     ]
    },
    {
     "name": "stderr",
     "output_type": "stream",
     "text": [
      " 56%|██████████████████████████████████████████████████████████████████████████████████████████████████▌                                                                             | 56/100 [01:58<01:32,  2.09s/it]"
     ]
    },
    {
     "name": "stdout",
     "output_type": "stream",
     "text": [
      "Epoch: 56 \t loss= 1.4796e+01 \t acc= 6.6200e-01\n"
     ]
    },
    {
     "name": "stderr",
     "output_type": "stream",
     "text": [
      " 60%|█████████████████████████████████████████████████████████████████████████████████████████████████████████▌                                                                      | 60/100 [02:07<01:25,  2.14s/it]"
     ]
    },
    {
     "name": "stdout",
     "output_type": "stream",
     "text": [
      "saving model\n"
     ]
    },
    {
     "name": "stderr",
     "output_type": "stream",
     "text": [
      " 67%|█████████████████████████████████████████████████████████████████████████████████████████████████████████████████████▉                                                          | 67/100 [02:22<01:10,  2.13s/it]"
     ]
    },
    {
     "name": "stdout",
     "output_type": "stream",
     "text": [
      "Epoch: 67 \t loss= 1.2266e+01 \t acc= 7.3800e-01\n"
     ]
    },
    {
     "name": "stderr",
     "output_type": "stream",
     "text": [
      " 78%|█████████████████████████████████████████████████████████████████████████████████████████████████████████████████████████████████████████▎                                      | 78/100 [02:45<00:46,  2.13s/it]"
     ]
    },
    {
     "name": "stdout",
     "output_type": "stream",
     "text": [
      "Epoch: 78 \t loss= 8.4323e+00 \t acc= 8.2200e-01\n"
     ]
    },
    {
     "name": "stderr",
     "output_type": "stream",
     "text": [
      " 80%|████████████████████████████████████████████████████████████████████████████████████████████████████████████████████████████████████████████▊                                   | 80/100 [02:50<00:42,  2.13s/it]"
     ]
    },
    {
     "name": "stdout",
     "output_type": "stream",
     "text": [
      "saving model\n"
     ]
    },
    {
     "name": "stderr",
     "output_type": "stream",
     "text": [
      " 89%|████████████████████████████████████████████████████████████████████████████████████████████████████████████████████████████████████████████████████████████▋                   | 89/100 [03:09<00:24,  2.20s/it]"
     ]
    },
    {
     "name": "stdout",
     "output_type": "stream",
     "text": [
      "Epoch: 89 \t loss= 6.3517e+00 \t acc= 8.5000e-01\n"
     ]
    },
    {
     "name": "stderr",
     "output_type": "stream",
     "text": [
      "100%|███████████████████████████████████████████████████████████████████████████████████████████████████████████████████████████████████████████████████████████████████████████████| 100/100 [03:33<00:00,  2.14s/it]"
     ]
    },
    {
     "name": "stdout",
     "output_type": "stream",
     "text": [
      "Epoch: 100 \t loss= 2.1171e+00 \t acc= 9.6700e-01\n",
      "Epoch: 100 \t loss= 2.1171e+00 \t acc= 0.97\n",
      "0.0\n",
      "calc_every_x_epoch 20\n"
     ]
    },
    {
     "name": "stderr",
     "output_type": "stream",
     "text": [
      "\n"
     ]
    },
    {
     "name": "stdout",
     "output_type": "stream",
     "text": [
      "Epoch: 0 \t loss=  4.119e+01\n",
      "0.0\n"
     ]
    },
    {
     "name": "stderr",
     "output_type": "stream",
     "text": [
      "\r",
      "  0%|                                                                                                                                                                                         | 0/100 [00:00<?, ?it/s]"
     ]
    },
    {
     "name": "stdout",
     "output_type": "stream",
     "text": [
      "saving model\n"
     ]
    },
    {
     "name": "stderr",
     "output_type": "stream",
     "text": [
      "\r",
      "  1%|█▊                                                                                                                                                                               | 1/100 [00:02<03:24,  2.06s/it]"
     ]
    },
    {
     "name": "stdout",
     "output_type": "stream",
     "text": [
      "Epoch: 1 \t loss= 3.7712e+01 \t acc= 1.6800e-01\n"
     ]
    },
    {
     "name": "stderr",
     "output_type": "stream",
     "text": [
      " 12%|█████████████████████                                                                                                                                                           | 12/100 [00:26<03:22,  2.30s/it]"
     ]
    },
    {
     "name": "stdout",
     "output_type": "stream",
     "text": [
      "Epoch: 12 \t loss= 2.8510e+01 \t acc= 3.4100e-01\n"
     ]
    },
    {
     "name": "stderr",
     "output_type": "stream",
     "text": [
      " 20%|███████████████████████████████████▏                                                                                                                                            | 20/100 [00:44<02:51,  2.15s/it]"
     ]
    },
    {
     "name": "stdout",
     "output_type": "stream",
     "text": [
      "saving model\n"
     ]
    },
    {
     "name": "stderr",
     "output_type": "stream",
     "text": [
      " 23%|████████████████████████████████████████▍                                                                                                                                       | 23/100 [00:50<02:45,  2.15s/it]"
     ]
    },
    {
     "name": "stdout",
     "output_type": "stream",
     "text": [
      "Epoch: 23 \t loss= 2.3639e+01 \t acc= 4.6300e-01\n"
     ]
    },
    {
     "name": "stderr",
     "output_type": "stream",
     "text": [
      " 34%|███████████████████████████████████████████████████████████▊                                                                                                                    | 34/100 [01:14<02:25,  2.20s/it]"
     ]
    },
    {
     "name": "stdout",
     "output_type": "stream",
     "text": [
      "Epoch: 34 \t loss= 1.9545e+01 \t acc= 5.9100e-01\n"
     ]
    },
    {
     "name": "stderr",
     "output_type": "stream",
     "text": [
      " 40%|██████████████████████████████████████████████████████████████████████▍                                                                                                         | 40/100 [01:27<02:09,  2.15s/it]"
     ]
    },
    {
     "name": "stdout",
     "output_type": "stream",
     "text": [
      "saving model\n"
     ]
    },
    {
     "name": "stderr",
     "output_type": "stream",
     "text": [
      " 45%|███████████████████████████████████████████████████████████████████████████████▏                                                                                                | 45/100 [01:38<02:00,  2.20s/it]"
     ]
    },
    {
     "name": "stdout",
     "output_type": "stream",
     "text": [
      "Epoch: 45 \t loss= 1.6222e+01 \t acc= 6.2700e-01\n"
     ]
    },
    {
     "name": "stderr",
     "output_type": "stream",
     "text": [
      " 56%|██████████████████████████████████████████████████████████████████████████████████████████████████▌                                                                             | 56/100 [02:02<01:33,  2.12s/it]"
     ]
    },
    {
     "name": "stdout",
     "output_type": "stream",
     "text": [
      "Epoch: 56 \t loss= 1.1529e+01 \t acc= 7.4400e-01\n"
     ]
    },
    {
     "name": "stderr",
     "output_type": "stream",
     "text": [
      " 60%|█████████████████████████████████████████████████████████████████████████████████████████████████████████▌                                                                      | 60/100 [02:10<01:26,  2.16s/it]"
     ]
    },
    {
     "name": "stdout",
     "output_type": "stream",
     "text": [
      "saving model\n"
     ]
    },
    {
     "name": "stderr",
     "output_type": "stream",
     "text": [
      " 67%|█████████████████████████████████████████████████████████████████████████████████████████████████████████████████████▉                                                          | 67/100 [02:25<01:08,  2.06s/it]"
     ]
    },
    {
     "name": "stdout",
     "output_type": "stream",
     "text": [
      "Epoch: 67 \t loss= 1.0287e+01 \t acc= 7.7100e-01\n"
     ]
    },
    {
     "name": "stderr",
     "output_type": "stream",
     "text": [
      " 78%|█████████████████████████████████████████████████████████████████████████████████████████████████████████████████████████████████████████▎                                      | 78/100 [02:48<00:46,  2.13s/it]"
     ]
    },
    {
     "name": "stdout",
     "output_type": "stream",
     "text": [
      "Epoch: 78 \t loss= 7.0288e+00 \t acc= 8.5400e-01\n"
     ]
    },
    {
     "name": "stderr",
     "output_type": "stream",
     "text": [
      " 80%|████████████████████████████████████████████████████████████████████████████████████████████████████████████████████████████████████████████▊                                   | 80/100 [02:52<00:43,  2.17s/it]"
     ]
    },
    {
     "name": "stdout",
     "output_type": "stream",
     "text": [
      "saving model\n"
     ]
    },
    {
     "name": "stderr",
     "output_type": "stream",
     "text": [
      " 89%|████████████████████████████████████████████████████████████████████████████████████████████████████████████████████████████████████████████████████████████▋                   | 89/100 [03:12<00:24,  2.19s/it]"
     ]
    },
    {
     "name": "stdout",
     "output_type": "stream",
     "text": [
      "Epoch: 89 \t loss= 5.7660e+00 \t acc= 8.6800e-01\n"
     ]
    },
    {
     "name": "stderr",
     "output_type": "stream",
     "text": [
      "100%|███████████████████████████████████████████████████████████████████████████████████████████████████████████████████████████████████████████████████████████████████████████████| 100/100 [03:35<00:00,  2.15s/it]"
     ]
    },
    {
     "name": "stdout",
     "output_type": "stream",
     "text": [
      "Epoch: 100 \t loss= 1.1614e+00 \t acc= 9.9000e-01\n",
      "Epoch: 100 \t loss= 1.1614e+00 \t acc= 0.99\n"
     ]
    },
    {
     "name": "stderr",
     "output_type": "stream",
     "text": [
      "\n"
     ]
    }
   ],
   "source": [
    "\n",
    "device='cuda:1'\n",
    "\n",
    "pruned_weights = [0.8,0.6,0.4,0.2,0.0] \n",
    "\n",
    "\n",
    "for p_w in pruned_weights:\n",
    "    \n",
    "    model_orig = model_orig.to(device)\n",
    "    \n",
    "    model = copy.deepcopy(model_orig)\n",
    "        \n",
    "    print(p_w)\n",
    "    if p_w > 0:\n",
    "        zero_masks = []\n",
    "        \n",
    "        num_pos_param = sum([len(param[torch.abs(param)>0].flatten()) for param in model.parameters()])\n",
    "        print(f'Num non-zero params before = {num_pos_param}')\n",
    "        for param in model.parameters():\n",
    "\n",
    "            param.requires_grad = False\n",
    "            num_param = param.numel()\n",
    "\n",
    "            num_zero_out = int(p_w*num_param)\n",
    "            param_flt = param.flatten()\n",
    "\n",
    "            shp = param.shape\n",
    "\n",
    "#             print(f\"#param={num_param}, pruned_weight={p_w*100}%, #zero out={num_zero_out}\") \n",
    "\n",
    "            zeroed_indices = torch.topk(torch.abs(param_flt),num_zero_out, largest=False).indices\n",
    "\n",
    "            indices = np.unravel_index(zeroed_indices.detach().cpu(), shp, order='C')\n",
    "\n",
    "            zero_mask = torch.ones(shp, device=device)\n",
    "            zero_mask[indices]=0\n",
    "            zero_masks.append(zero_mask)\n",
    "\n",
    "            param_flt[zeroed_indices] = 0\n",
    "\n",
    "            param = param_flt.reshape(shp)\n",
    "        \n",
    "        num_pos_param = sum([len(param[torch.abs(param)>0].flatten()) for param in model.parameters()])\n",
    "        print(f'Num non-zero params after = {num_pos_param}')\n",
    "\n",
    "        for param in model.parameters():\n",
    "            param.requires_grad = True\n",
    "            \n",
    "    train_info = train_network(train_itr, train_itr, 'ResNet32', model, 100, calc_every_x_epoch=20, device=device, pruned_weights=p_w)\n",
    "\n",
    "    train_info.to_pickle(f\"training_information_ResNet32_pruned_weights={p_w}.pkl\")    "
   ]
  },
  {
   "cell_type": "code",
   "execution_count": 5,
   "metadata": {},
   "outputs": [],
   "source": [
    "def load_pandas_df(file_name):\n",
    "    df = pd.read_pickle(file_name)\n",
    "    \n",
    "    return df    "
   ]
  },
  {
   "cell_type": "code",
   "execution_count": 6,
   "metadata": {},
   "outputs": [],
   "source": [
    "\n",
    "pruned_weights = [0.0, 0.2, 0.4, 0.6, 0.8]\n",
    "\n",
    "training_infos = []\n",
    "for p_w in pruned_weights:\n",
    "    fn = f'training_information_ResNet32_pruned_weights={p_w}.pkl'\n",
    "    df = load_pandas_df(fn)\n",
    "    df = df.astype({'loss':float, 'acc':float, 'loss_mb':float, 'acc_mb':float})\n",
    "    training_infos.append(df)\n",
    "    \n"
   ]
  },
  {
   "cell_type": "code",
   "execution_count": 7,
   "metadata": {},
   "outputs": [
    {
     "data": {
      "text/html": [
       "<div>\n",
       "<style scoped>\n",
       "    .dataframe tbody tr th:only-of-type {\n",
       "        vertical-align: middle;\n",
       "    }\n",
       "\n",
       "    .dataframe tbody tr th {\n",
       "        vertical-align: top;\n",
       "    }\n",
       "\n",
       "    .dataframe thead th {\n",
       "        text-align: right;\n",
       "    }\n",
       "</style>\n",
       "<table border=\"1\" class=\"dataframe\">\n",
       "  <thead>\n",
       "    <tr style=\"text-align: right;\">\n",
       "      <th></th>\n",
       "      <th>modelname</th>\n",
       "      <th>epoch</th>\n",
       "      <th>loss_mb</th>\n",
       "      <th>acc_mb</th>\n",
       "      <th>loss</th>\n",
       "      <th>acc</th>\n",
       "      <th>full_grad_norm</th>\n",
       "      <th>pruned_weights</th>\n",
       "    </tr>\n",
       "  </thead>\n",
       "  <tbody>\n",
       "    <tr>\n",
       "      <th>0</th>\n",
       "      <td>ResNet32</td>\n",
       "      <td>0</td>\n",
       "      <td>2.522794</td>\n",
       "      <td>0.078125</td>\n",
       "      <td>41.187256</td>\n",
       "      <td>0.088</td>\n",
       "      <td>6.879318</td>\n",
       "      <td>0.0</td>\n",
       "    </tr>\n",
       "    <tr>\n",
       "      <th>1</th>\n",
       "      <td>ResNet32</td>\n",
       "      <td>0</td>\n",
       "      <td>2.375124</td>\n",
       "      <td>0.171875</td>\n",
       "      <td>41.187256</td>\n",
       "      <td>0.088</td>\n",
       "      <td>6.436945</td>\n",
       "      <td>0.0</td>\n",
       "    </tr>\n",
       "    <tr>\n",
       "      <th>2</th>\n",
       "      <td>ResNet32</td>\n",
       "      <td>0</td>\n",
       "      <td>2.604136</td>\n",
       "      <td>0.078125</td>\n",
       "      <td>41.187256</td>\n",
       "      <td>0.088</td>\n",
       "      <td>6.472061</td>\n",
       "      <td>0.0</td>\n",
       "    </tr>\n",
       "    <tr>\n",
       "      <th>3</th>\n",
       "      <td>ResNet32</td>\n",
       "      <td>0</td>\n",
       "      <td>2.532304</td>\n",
       "      <td>0.156250</td>\n",
       "      <td>41.187256</td>\n",
       "      <td>0.088</td>\n",
       "      <td>6.053850</td>\n",
       "      <td>0.0</td>\n",
       "    </tr>\n",
       "    <tr>\n",
       "      <th>4</th>\n",
       "      <td>ResNet32</td>\n",
       "      <td>0</td>\n",
       "      <td>2.908307</td>\n",
       "      <td>0.093750</td>\n",
       "      <td>41.187256</td>\n",
       "      <td>0.088</td>\n",
       "      <td>5.723793</td>\n",
       "      <td>0.0</td>\n",
       "    </tr>\n",
       "    <tr>\n",
       "      <th>...</th>\n",
       "      <td>...</td>\n",
       "      <td>...</td>\n",
       "      <td>...</td>\n",
       "      <td>...</td>\n",
       "      <td>...</td>\n",
       "      <td>...</td>\n",
       "      <td>...</td>\n",
       "      <td>...</td>\n",
       "    </tr>\n",
       "    <tr>\n",
       "      <th>1595</th>\n",
       "      <td>ResNet32</td>\n",
       "      <td>99</td>\n",
       "      <td>1.206048</td>\n",
       "      <td>0.515625</td>\n",
       "      <td>19.586666</td>\n",
       "      <td>0.547</td>\n",
       "      <td>0.944916</td>\n",
       "      <td>0.8</td>\n",
       "    </tr>\n",
       "    <tr>\n",
       "      <th>1596</th>\n",
       "      <td>ResNet32</td>\n",
       "      <td>99</td>\n",
       "      <td>1.091857</td>\n",
       "      <td>0.546875</td>\n",
       "      <td>19.586666</td>\n",
       "      <td>0.547</td>\n",
       "      <td>0.763724</td>\n",
       "      <td>0.8</td>\n",
       "    </tr>\n",
       "    <tr>\n",
       "      <th>1597</th>\n",
       "      <td>ResNet32</td>\n",
       "      <td>99</td>\n",
       "      <td>1.160569</td>\n",
       "      <td>0.562500</td>\n",
       "      <td>19.586666</td>\n",
       "      <td>0.547</td>\n",
       "      <td>0.992754</td>\n",
       "      <td>0.8</td>\n",
       "    </tr>\n",
       "    <tr>\n",
       "      <th>1598</th>\n",
       "      <td>ResNet32</td>\n",
       "      <td>99</td>\n",
       "      <td>1.280861</td>\n",
       "      <td>0.562500</td>\n",
       "      <td>19.586666</td>\n",
       "      <td>0.547</td>\n",
       "      <td>0.867845</td>\n",
       "      <td>0.8</td>\n",
       "    </tr>\n",
       "    <tr>\n",
       "      <th>1599</th>\n",
       "      <td>ResNet32</td>\n",
       "      <td>99</td>\n",
       "      <td>1.306438</td>\n",
       "      <td>0.525000</td>\n",
       "      <td>19.586666</td>\n",
       "      <td>0.547</td>\n",
       "      <td>1.256583</td>\n",
       "      <td>0.8</td>\n",
       "    </tr>\n",
       "  </tbody>\n",
       "</table>\n",
       "<p>8000 rows × 8 columns</p>\n",
       "</div>"
      ],
      "text/plain": [
       "     modelname  epoch   loss_mb    acc_mb       loss    acc  full_grad_norm  \\\n",
       "0     ResNet32      0  2.522794  0.078125  41.187256  0.088        6.879318   \n",
       "1     ResNet32      0  2.375124  0.171875  41.187256  0.088        6.436945   \n",
       "2     ResNet32      0  2.604136  0.078125  41.187256  0.088        6.472061   \n",
       "3     ResNet32      0  2.532304  0.156250  41.187256  0.088        6.053850   \n",
       "4     ResNet32      0  2.908307  0.093750  41.187256  0.088        5.723793   \n",
       "...        ...    ...       ...       ...        ...    ...             ...   \n",
       "1595  ResNet32     99  1.206048  0.515625  19.586666  0.547        0.944916   \n",
       "1596  ResNet32     99  1.091857  0.546875  19.586666  0.547        0.763724   \n",
       "1597  ResNet32     99  1.160569  0.562500  19.586666  0.547        0.992754   \n",
       "1598  ResNet32     99  1.280861  0.562500  19.586666  0.547        0.867845   \n",
       "1599  ResNet32     99  1.306438  0.525000  19.586666  0.547        1.256583   \n",
       "\n",
       "      pruned_weights  \n",
       "0                0.0  \n",
       "1                0.0  \n",
       "2                0.0  \n",
       "3                0.0  \n",
       "4                0.0  \n",
       "...              ...  \n",
       "1595             0.8  \n",
       "1596             0.8  \n",
       "1597             0.8  \n",
       "1598             0.8  \n",
       "1599             0.8  \n",
       "\n",
       "[8000 rows x 8 columns]"
      ]
     },
     "execution_count": 7,
     "metadata": {},
     "output_type": "execute_result"
    }
   ],
   "source": [
    "pd.concat(training_infos)"
   ]
  },
  {
   "cell_type": "code",
   "execution_count": 142,
   "metadata": {},
   "outputs": [
    {
     "name": "stderr",
     "output_type": "stream",
     "text": [
      "/users/staff/dmi-dmi/zhao0005/anaconda3/lib/python3.11/site-packages/seaborn/axisgrid.py:118: UserWarning: The figure layout has changed to tight\n",
      "  self._figure.tight_layout(*args, **kwargs)\n"
     ]
    },
    {
     "data": {
      "image/png": "[encoded data removed]",
      "text/plain": [
       "<Figure size 717.833x500 with 1 Axes>"
      ]
     },
     "metadata": {},
     "output_type": "display_data"
    }
   ],
   "source": [
    "import seaborn as sns\n",
    "\n",
    "sns.set_theme()\n",
    "sns.set_context(\"talk\")\n",
    "\n",
    "def plot_hessian_info(df,y):\n",
    "    \n",
    "    sns.relplot(df, x='epoch', y=y, hue='pruned_weights', style='pruned_weights', markers=True, kind='line', palette='colorblind')\n",
    "   \n",
    "\n",
    "sns.relplot(pd.concat(training_infos), x='epoch', y='loss', hue='pruned_weights', style='pruned_weights', markers=True, markevery=20, kind='line', palette='colorblind')\n",
    "\n",
    "plt.title('ResNet32, Cifar10, n=1000')\n",
    "plt.ylabel('Training loss')\n",
    "\n",
    "plt.savefig('training_loss_ResNet32_pruned_weights.pdf', bbox_inches='tight')"
   ]
  },
  {
   "cell_type": "code",
   "execution_count": 119,
   "metadata": {},
   "outputs": [],
   "source": [
    "training_infos_resnet32 = pd.concat(training_infos)\n",
    "\n",
    "training_infos_resnet32.to_pickle(f\"panda_dataframes/training_information_ResNet32_pruned_weights.pkl\")"
   ]
  },
  {
   "cell_type": "code",
   "execution_count": 86,
   "metadata": {},
   "outputs": [],
   "source": [
    "pruned_weights = [0.0, 0.2, 0.4, 0.6]\n",
    "epoch = 99\n",
    "\n",
    "dfs = []\n",
    "for p_w in pruned_weights:\n",
    "    fn = f'panda_dataframes/outer_prod_hessian_information_ResNet32_pruned_weights={p_w}_{epoch}.pkl'\n",
    "\n",
    "    df = load_pandas_df(fn)\n",
    "\n",
    "    df = df.astype({'H_o_cond': float, 'H_o_rank': int, 'lambda_max_H_o': float, 'lambda_min_H_o': float})\n",
    "\n",
    "    dfs.append(df)\n",
    "\n",
    "hession_info_resnet32 = pd.concat(dfs,ignore_index=True)"
   ]
  },
  {
   "cell_type": "code",
   "execution_count": 41,
   "metadata": {},
   "outputs": [],
   "source": [
    "pruned_weights = [0.8]\n",
    "epochs = [0,20,40,60,80,99]\n",
    "\n",
    "dfs = []\n",
    "for epoch in epochs:\n",
    "    for p_w in pruned_weights:\n",
    "        fn = f'panda_dataframes/outer_prod_hessian_information_ResNet32_pruned_weights={p_w}_{epoch}.pkl'\n",
    "\n",
    "        df = load_pandas_df(fn)\n",
    "\n",
    "        df = df.astype({'H_o_cond': float, 'H_o_rank': int, 'lambda_max_H_o': float, 'lambda_min_H_o': float})\n",
    "\n",
    "        dfs.append(df)\n",
    "    \n",
    "hession_info_resnet32_p_w_08 = pd.concat(dfs,ignore_index=True)\n",
    "    \n"
   ]
  },
  {
   "cell_type": "code",
   "execution_count": 49,
   "metadata": {},
   "outputs": [
    {
     "name": "stdout",
     "output_type": "stream",
     "text": [
      "0\n"
     ]
    },
    {
     "name": "stderr",
     "output_type": "stream",
     "text": [
      "/tmp/ipykernel_3819595/4097136499.py:8: SettingWithCopyWarning: \n",
      "A value is trying to be set on a copy of a slice from a DataFrame\n",
      "\n",
      "See the caveats in the documentation: https://pandas.pydata.org/pandas-docs/stable/user_guide/indexing.html#returning-a-view-versus-a-copy\n",
      "  hession_info_resnet32_p_w_08.H_o_rank.loc[i] = int(rank)\n",
      "/tmp/ipykernel_3819595/4097136499.py:9: SettingWithCopyWarning: \n",
      "A value is trying to be set on a copy of a slice from a DataFrame\n",
      "\n",
      "See the caveats in the documentation: https://pandas.pydata.org/pandas-docs/stable/user_guide/indexing.html#returning-a-view-versus-a-copy\n",
      "  hession_info_resnet32_p_w_08.lambda_min_H_o.loc[i] = float(spec[-rank])\n",
      "/tmp/ipykernel_3819595/4097136499.py:11: SettingWithCopyWarning: \n",
      "A value is trying to be set on a copy of a slice from a DataFrame\n",
      "\n",
      "See the caveats in the documentation: https://pandas.pydata.org/pandas-docs/stable/user_guide/indexing.html#returning-a-view-versus-a-copy\n",
      "  hession_info_resnet32_p_w_08.H_o_cond.loc[i] = hession_info_resnet32_p_w_08.loc[i].lambda_max_H_o/float(spec[-rank])\n"
     ]
    },
    {
     "name": "stdout",
     "output_type": "stream",
     "text": [
      "1\n"
     ]
    },
    {
     "name": "stderr",
     "output_type": "stream",
     "text": [
      "/tmp/ipykernel_3819595/4097136499.py:8: SettingWithCopyWarning: \n",
      "A value is trying to be set on a copy of a slice from a DataFrame\n",
      "\n",
      "See the caveats in the documentation: https://pandas.pydata.org/pandas-docs/stable/user_guide/indexing.html#returning-a-view-versus-a-copy\n",
      "  hession_info_resnet32_p_w_08.H_o_rank.loc[i] = int(rank)\n",
      "/tmp/ipykernel_3819595/4097136499.py:9: SettingWithCopyWarning: \n",
      "A value is trying to be set on a copy of a slice from a DataFrame\n",
      "\n",
      "See the caveats in the documentation: https://pandas.pydata.org/pandas-docs/stable/user_guide/indexing.html#returning-a-view-versus-a-copy\n",
      "  hession_info_resnet32_p_w_08.lambda_min_H_o.loc[i] = float(spec[-rank])\n",
      "/tmp/ipykernel_3819595/4097136499.py:11: SettingWithCopyWarning: \n",
      "A value is trying to be set on a copy of a slice from a DataFrame\n",
      "\n",
      "See the caveats in the documentation: https://pandas.pydata.org/pandas-docs/stable/user_guide/indexing.html#returning-a-view-versus-a-copy\n",
      "  hession_info_resnet32_p_w_08.H_o_cond.loc[i] = hession_info_resnet32_p_w_08.loc[i].lambda_max_H_o/float(spec[-rank])\n"
     ]
    },
    {
     "name": "stdout",
     "output_type": "stream",
     "text": [
      "2\n"
     ]
    },
    {
     "name": "stderr",
     "output_type": "stream",
     "text": [
      "/tmp/ipykernel_3819595/4097136499.py:8: SettingWithCopyWarning: \n",
      "A value is trying to be set on a copy of a slice from a DataFrame\n",
      "\n",
      "See the caveats in the documentation: https://pandas.pydata.org/pandas-docs/stable/user_guide/indexing.html#returning-a-view-versus-a-copy\n",
      "  hession_info_resnet32_p_w_08.H_o_rank.loc[i] = int(rank)\n",
      "/tmp/ipykernel_3819595/4097136499.py:9: SettingWithCopyWarning: \n",
      "A value is trying to be set on a copy of a slice from a DataFrame\n",
      "\n",
      "See the caveats in the documentation: https://pandas.pydata.org/pandas-docs/stable/user_guide/indexing.html#returning-a-view-versus-a-copy\n",
      "  hession_info_resnet32_p_w_08.lambda_min_H_o.loc[i] = float(spec[-rank])\n",
      "/tmp/ipykernel_3819595/4097136499.py:11: SettingWithCopyWarning: \n",
      "A value is trying to be set on a copy of a slice from a DataFrame\n",
      "\n",
      "See the caveats in the documentation: https://pandas.pydata.org/pandas-docs/stable/user_guide/indexing.html#returning-a-view-versus-a-copy\n",
      "  hession_info_resnet32_p_w_08.H_o_cond.loc[i] = hession_info_resnet32_p_w_08.loc[i].lambda_max_H_o/float(spec[-rank])\n"
     ]
    },
    {
     "name": "stdout",
     "output_type": "stream",
     "text": [
      "3\n"
     ]
    },
    {
     "name": "stderr",
     "output_type": "stream",
     "text": [
      "/tmp/ipykernel_3819595/4097136499.py:8: SettingWithCopyWarning: \n",
      "A value is trying to be set on a copy of a slice from a DataFrame\n",
      "\n",
      "See the caveats in the documentation: https://pandas.pydata.org/pandas-docs/stable/user_guide/indexing.html#returning-a-view-versus-a-copy\n",
      "  hession_info_resnet32_p_w_08.H_o_rank.loc[i] = int(rank)\n",
      "/tmp/ipykernel_3819595/4097136499.py:9: SettingWithCopyWarning: \n",
      "A value is trying to be set on a copy of a slice from a DataFrame\n",
      "\n",
      "See the caveats in the documentation: https://pandas.pydata.org/pandas-docs/stable/user_guide/indexing.html#returning-a-view-versus-a-copy\n",
      "  hession_info_resnet32_p_w_08.lambda_min_H_o.loc[i] = float(spec[-rank])\n",
      "/tmp/ipykernel_3819595/4097136499.py:11: SettingWithCopyWarning: \n",
      "A value is trying to be set on a copy of a slice from a DataFrame\n",
      "\n",
      "See the caveats in the documentation: https://pandas.pydata.org/pandas-docs/stable/user_guide/indexing.html#returning-a-view-versus-a-copy\n",
      "  hession_info_resnet32_p_w_08.H_o_cond.loc[i] = hession_info_resnet32_p_w_08.loc[i].lambda_max_H_o/float(spec[-rank])\n"
     ]
    },
    {
     "name": "stdout",
     "output_type": "stream",
     "text": [
      "4\n"
     ]
    },
    {
     "name": "stderr",
     "output_type": "stream",
     "text": [
      "/tmp/ipykernel_3819595/4097136499.py:8: SettingWithCopyWarning: \n",
      "A value is trying to be set on a copy of a slice from a DataFrame\n",
      "\n",
      "See the caveats in the documentation: https://pandas.pydata.org/pandas-docs/stable/user_guide/indexing.html#returning-a-view-versus-a-copy\n",
      "  hession_info_resnet32_p_w_08.H_o_rank.loc[i] = int(rank)\n",
      "/tmp/ipykernel_3819595/4097136499.py:9: SettingWithCopyWarning: \n",
      "A value is trying to be set on a copy of a slice from a DataFrame\n",
      "\n",
      "See the caveats in the documentation: https://pandas.pydata.org/pandas-docs/stable/user_guide/indexing.html#returning-a-view-versus-a-copy\n",
      "  hession_info_resnet32_p_w_08.lambda_min_H_o.loc[i] = float(spec[-rank])\n",
      "/tmp/ipykernel_3819595/4097136499.py:11: SettingWithCopyWarning: \n",
      "A value is trying to be set on a copy of a slice from a DataFrame\n",
      "\n",
      "See the caveats in the documentation: https://pandas.pydata.org/pandas-docs/stable/user_guide/indexing.html#returning-a-view-versus-a-copy\n",
      "  hession_info_resnet32_p_w_08.H_o_cond.loc[i] = hession_info_resnet32_p_w_08.loc[i].lambda_max_H_o/float(spec[-rank])\n"
     ]
    },
    {
     "name": "stdout",
     "output_type": "stream",
     "text": [
      "5\n"
     ]
    },
    {
     "name": "stderr",
     "output_type": "stream",
     "text": [
      "/tmp/ipykernel_3819595/4097136499.py:8: SettingWithCopyWarning: \n",
      "A value is trying to be set on a copy of a slice from a DataFrame\n",
      "\n",
      "See the caveats in the documentation: https://pandas.pydata.org/pandas-docs/stable/user_guide/indexing.html#returning-a-view-versus-a-copy\n",
      "  hession_info_resnet32_p_w_08.H_o_rank.loc[i] = int(rank)\n",
      "/tmp/ipykernel_3819595/4097136499.py:9: SettingWithCopyWarning: \n",
      "A value is trying to be set on a copy of a slice from a DataFrame\n",
      "\n",
      "See the caveats in the documentation: https://pandas.pydata.org/pandas-docs/stable/user_guide/indexing.html#returning-a-view-versus-a-copy\n",
      "  hession_info_resnet32_p_w_08.lambda_min_H_o.loc[i] = float(spec[-rank])\n",
      "/tmp/ipykernel_3819595/4097136499.py:11: SettingWithCopyWarning: \n",
      "A value is trying to be set on a copy of a slice from a DataFrame\n",
      "\n",
      "See the caveats in the documentation: https://pandas.pydata.org/pandas-docs/stable/user_guide/indexing.html#returning-a-view-versus-a-copy\n",
      "  hession_info_resnet32_p_w_08.H_o_cond.loc[i] = hession_info_resnet32_p_w_08.loc[i].lambda_max_H_o/float(spec[-rank])\n"
     ]
    }
   ],
   "source": [
    "for i in range(len(hession_info_resnet32_p_w_08)):\n",
    "    print(i)\n",
    "    spec = hession_info_resnet32_p_w_08.loc[i].H_o_spectrum\n",
    "    spec[spec < 0] = 0\n",
    "    \n",
    "    rank = torch.linalg.matrix_rank(torch.diag(spec), atol=1e-7)\n",
    "    \n",
    "    hession_info_resnet32_p_w_08.H_o_rank.loc[i] = int(rank)\n",
    "    hession_info_resnet32_p_w_08.lambda_min_H_o.loc[i] = float(spec[-rank])\n",
    "    \n",
    "    hession_info_resnet32_p_w_08.H_o_cond.loc[i] = hession_info_resnet32_p_w_08.loc[i].lambda_max_H_o/float(spec[-rank])"
   ]
  },
  {
   "cell_type": "code",
   "execution_count": 65,
   "metadata": {},
   "outputs": [
    {
     "data": {
      "text/plain": [
       "[<matplotlib.lines.Line2D at 0x7f6b62b1de50>]"
      ]
     },
     "execution_count": 65,
     "metadata": {},
     "output_type": "execute_result"
    },
    {
     "data": {
      "image/png": "[encoded data removed]",
      "text/plain": [
       "<Figure size 1000x800 with 1 Axes>"
      ]
     },
     "metadata": {},
     "output_type": "display_data"
    }
   ],
   "source": [
    "plt.semilogy(hession_info_resnet32_p_w_08.H_o_spectrum.iloc[0],alpha=0.5)\n",
    "plt.semilogy(hession_info_resnet32_p_w_08.H_o_spectrum.iloc[1],alpha=0.5)\n",
    "plt.semilogy(hession_info_resnet32_p_w_08.H_o_spectrum.iloc[2],alpha=0.5)\n",
    "plt.semilogy(hession_info_resnet32_p_w_08.H_o_spectrum.iloc[3],alpha=0.5)\n",
    "\n",
    "\n",
    "plt.semilogy(hession_info_resnet32.H_o_spectrum.iloc[13],alpha=0.5)"
   ]
  },
  {
   "cell_type": "code",
   "execution_count": 87,
   "metadata": {},
   "outputs": [
    {
     "data": {
      "text/html": [
       "<div>\n",
       "<style scoped>\n",
       "    .dataframe tbody tr th:only-of-type {\n",
       "        vertical-align: middle;\n",
       "    }\n",
       "\n",
       "    .dataframe tbody tr th {\n",
       "        vertical-align: top;\n",
       "    }\n",
       "\n",
       "    .dataframe thead th {\n",
       "        text-align: right;\n",
       "    }\n",
       "</style>\n",
       "<table border=\"1\" class=\"dataframe\">\n",
       "  <thead>\n",
       "    <tr style=\"text-align: right;\">\n",
       "      <th></th>\n",
       "      <th>dataset</th>\n",
       "      <th>num_samples</th>\n",
       "      <th>network</th>\n",
       "      <th>pruned_weights</th>\n",
       "      <th>epoch</th>\n",
       "      <th>H_o_cond</th>\n",
       "      <th>H_o_spectrum</th>\n",
       "      <th>H_o_rank</th>\n",
       "      <th>lambda_max_H_o</th>\n",
       "      <th>lambda_min_H_o</th>\n",
       "    </tr>\n",
       "  </thead>\n",
       "  <tbody>\n",
       "    <tr>\n",
       "      <th>0</th>\n",
       "      <td>Cifar10</td>\n",
       "      <td>1000</td>\n",
       "      <td>ResNet32</td>\n",
       "      <td>0.0</td>\n",
       "      <td>0</td>\n",
       "      <td>9.578475e+03</td>\n",
       "      <td>[tensor(94.8110), tensor(95.9079), tensor(96.6...</td>\n",
       "      <td>10000</td>\n",
       "      <td>9.081451e+05</td>\n",
       "      <td>9.481104e+01</td>\n",
       "    </tr>\n",
       "    <tr>\n",
       "      <th>1</th>\n",
       "      <td>Cifar10</td>\n",
       "      <td>1000</td>\n",
       "      <td>ResNet32</td>\n",
       "      <td>0.0</td>\n",
       "      <td>20</td>\n",
       "      <td>5.092344e+06</td>\n",
       "      <td>[tensor(0.0106), tensor(0.0115), tensor(0.0120...</td>\n",
       "      <td>10000</td>\n",
       "      <td>5.421620e+04</td>\n",
       "      <td>1.064661e-02</td>\n",
       "    </tr>\n",
       "    <tr>\n",
       "      <th>2</th>\n",
       "      <td>Cifar10</td>\n",
       "      <td>1000</td>\n",
       "      <td>ResNet32</td>\n",
       "      <td>0.0</td>\n",
       "      <td>40</td>\n",
       "      <td>1.269568e+06</td>\n",
       "      <td>[tensor(0.0447), tensor(0.0468), tensor(0.0472...</td>\n",
       "      <td>10000</td>\n",
       "      <td>5.680521e+04</td>\n",
       "      <td>4.474375e-02</td>\n",
       "    </tr>\n",
       "    <tr>\n",
       "      <th>3</th>\n",
       "      <td>Cifar10</td>\n",
       "      <td>1000</td>\n",
       "      <td>ResNet32</td>\n",
       "      <td>0.0</td>\n",
       "      <td>60</td>\n",
       "      <td>1.074148e+06</td>\n",
       "      <td>[tensor(0.0710), tensor(0.0762), tensor(0.0783...</td>\n",
       "      <td>10000</td>\n",
       "      <td>7.623944e+04</td>\n",
       "      <td>7.097663e-02</td>\n",
       "    </tr>\n",
       "    <tr>\n",
       "      <th>4</th>\n",
       "      <td>Cifar10</td>\n",
       "      <td>1000</td>\n",
       "      <td>ResNet32</td>\n",
       "      <td>0.0</td>\n",
       "      <td>80</td>\n",
       "      <td>1.381855e+06</td>\n",
       "      <td>[tensor(0.0655), tensor(0.0667), tensor(0.0681...</td>\n",
       "      <td>10000</td>\n",
       "      <td>9.053786e+04</td>\n",
       "      <td>6.551908e-02</td>\n",
       "    </tr>\n",
       "    <tr>\n",
       "      <th>5</th>\n",
       "      <td>Cifar10</td>\n",
       "      <td>1000</td>\n",
       "      <td>ResNet32</td>\n",
       "      <td>0.0</td>\n",
       "      <td>99</td>\n",
       "      <td>8.298274e+05</td>\n",
       "      <td>[tensor(0.0854), tensor(0.0912), tensor(0.0952...</td>\n",
       "      <td>10000</td>\n",
       "      <td>7.086727e+04</td>\n",
       "      <td>8.540001e-02</td>\n",
       "    </tr>\n",
       "    <tr>\n",
       "      <th>6</th>\n",
       "      <td>Cifar10</td>\n",
       "      <td>1000</td>\n",
       "      <td>ResNet32</td>\n",
       "      <td>0.2</td>\n",
       "      <td>0</td>\n",
       "      <td>1.497921e+04</td>\n",
       "      <td>[tensor(42.0913), tensor(42.7606), tensor(43.3...</td>\n",
       "      <td>10000</td>\n",
       "      <td>6.304946e+05</td>\n",
       "      <td>4.209131e+01</td>\n",
       "    </tr>\n",
       "    <tr>\n",
       "      <th>7</th>\n",
       "      <td>Cifar10</td>\n",
       "      <td>1000</td>\n",
       "      <td>ResNet32</td>\n",
       "      <td>0.2</td>\n",
       "      <td>20</td>\n",
       "      <td>1.835480e+07</td>\n",
       "      <td>[tensor(0.0044), tensor(0.0053), tensor(0.0057...</td>\n",
       "      <td>10000</td>\n",
       "      <td>8.028517e+04</td>\n",
       "      <td>4.374069e-03</td>\n",
       "    </tr>\n",
       "    <tr>\n",
       "      <th>8</th>\n",
       "      <td>Cifar10</td>\n",
       "      <td>1000</td>\n",
       "      <td>ResNet32</td>\n",
       "      <td>0.2</td>\n",
       "      <td>40</td>\n",
       "      <td>2.706249e+05</td>\n",
       "      <td>[tensor(0.1649), tensor(0.1692), tensor(0.1703...</td>\n",
       "      <td>10000</td>\n",
       "      <td>4.463775e+04</td>\n",
       "      <td>1.649432e-01</td>\n",
       "    </tr>\n",
       "    <tr>\n",
       "      <th>9</th>\n",
       "      <td>Cifar10</td>\n",
       "      <td>1000</td>\n",
       "      <td>ResNet32</td>\n",
       "      <td>0.2</td>\n",
       "      <td>60</td>\n",
       "      <td>1.929393e+05</td>\n",
       "      <td>[tensor(0.3856), tensor(0.3956), tensor(0.4203...</td>\n",
       "      <td>10000</td>\n",
       "      <td>7.440042e+04</td>\n",
       "      <td>3.856157e-01</td>\n",
       "    </tr>\n",
       "    <tr>\n",
       "      <th>10</th>\n",
       "      <td>Cifar10</td>\n",
       "      <td>1000</td>\n",
       "      <td>ResNet32</td>\n",
       "      <td>0.2</td>\n",
       "      <td>80</td>\n",
       "      <td>1.401515e+05</td>\n",
       "      <td>[tensor(0.6908), tensor(0.8452), tensor(0.8870...</td>\n",
       "      <td>10000</td>\n",
       "      <td>9.681164e+04</td>\n",
       "      <td>6.907640e-01</td>\n",
       "    </tr>\n",
       "    <tr>\n",
       "      <th>11</th>\n",
       "      <td>Cifar10</td>\n",
       "      <td>1000</td>\n",
       "      <td>ResNet32</td>\n",
       "      <td>0.2</td>\n",
       "      <td>99</td>\n",
       "      <td>7.941827e+04</td>\n",
       "      <td>[tensor(1.2191), tensor(1.3764), tensor(1.3897...</td>\n",
       "      <td>10000</td>\n",
       "      <td>9.681697e+04</td>\n",
       "      <td>1.219077e+00</td>\n",
       "    </tr>\n",
       "    <tr>\n",
       "      <th>12</th>\n",
       "      <td>Cifar10</td>\n",
       "      <td>1000</td>\n",
       "      <td>ResNet32</td>\n",
       "      <td>0.4</td>\n",
       "      <td>0</td>\n",
       "      <td>6.365499e+04</td>\n",
       "      <td>[tensor(26.7330), tensor(27.1495), tensor(27.5...</td>\n",
       "      <td>10000</td>\n",
       "      <td>1.701686e+06</td>\n",
       "      <td>2.673296e+01</td>\n",
       "    </tr>\n",
       "    <tr>\n",
       "      <th>13</th>\n",
       "      <td>Cifar10</td>\n",
       "      <td>1000</td>\n",
       "      <td>ResNet32</td>\n",
       "      <td>0.4</td>\n",
       "      <td>20</td>\n",
       "      <td>1.253786e+07</td>\n",
       "      <td>[tensor(0.0069), tensor(0.0076), tensor(0.0077...</td>\n",
       "      <td>10000</td>\n",
       "      <td>8.589673e+04</td>\n",
       "      <td>6.850988e-03</td>\n",
       "    </tr>\n",
       "    <tr>\n",
       "      <th>14</th>\n",
       "      <td>Cifar10</td>\n",
       "      <td>1000</td>\n",
       "      <td>ResNet32</td>\n",
       "      <td>0.4</td>\n",
       "      <td>40</td>\n",
       "      <td>4.780888e+05</td>\n",
       "      <td>[tensor(0.1369), tensor(0.1439), tensor(0.1515...</td>\n",
       "      <td>10000</td>\n",
       "      <td>6.545802e+04</td>\n",
       "      <td>1.369160e-01</td>\n",
       "    </tr>\n",
       "    <tr>\n",
       "      <th>15</th>\n",
       "      <td>Cifar10</td>\n",
       "      <td>1000</td>\n",
       "      <td>ResNet32</td>\n",
       "      <td>0.4</td>\n",
       "      <td>60</td>\n",
       "      <td>2.699692e+05</td>\n",
       "      <td>[tensor(0.4372), tensor(0.4471), tensor(0.4482...</td>\n",
       "      <td>10000</td>\n",
       "      <td>1.180286e+05</td>\n",
       "      <td>4.371929e-01</td>\n",
       "    </tr>\n",
       "    <tr>\n",
       "      <th>16</th>\n",
       "      <td>Cifar10</td>\n",
       "      <td>1000</td>\n",
       "      <td>ResNet32</td>\n",
       "      <td>0.4</td>\n",
       "      <td>80</td>\n",
       "      <td>1.254192e+05</td>\n",
       "      <td>[tensor(0.8677), tensor(0.9988), tensor(1.0752...</td>\n",
       "      <td>10000</td>\n",
       "      <td>1.088250e+05</td>\n",
       "      <td>8.676901e-01</td>\n",
       "    </tr>\n",
       "    <tr>\n",
       "      <th>17</th>\n",
       "      <td>Cifar10</td>\n",
       "      <td>1000</td>\n",
       "      <td>ResNet32</td>\n",
       "      <td>0.4</td>\n",
       "      <td>99</td>\n",
       "      <td>7.010986e+04</td>\n",
       "      <td>[tensor(2.1340), tensor(2.1889), tensor(2.3531...</td>\n",
       "      <td>10000</td>\n",
       "      <td>1.496127e+05</td>\n",
       "      <td>2.133975e+00</td>\n",
       "    </tr>\n",
       "    <tr>\n",
       "      <th>18</th>\n",
       "      <td>Cifar10</td>\n",
       "      <td>1000</td>\n",
       "      <td>ResNet32</td>\n",
       "      <td>0.6</td>\n",
       "      <td>0</td>\n",
       "      <td>2.665015e+05</td>\n",
       "      <td>[tensor(5.2779), tensor(5.7981), tensor(5.9097...</td>\n",
       "      <td>10000</td>\n",
       "      <td>1.406562e+06</td>\n",
       "      <td>5.277874e+00</td>\n",
       "    </tr>\n",
       "    <tr>\n",
       "      <th>19</th>\n",
       "      <td>Cifar10</td>\n",
       "      <td>1000</td>\n",
       "      <td>ResNet32</td>\n",
       "      <td>0.6</td>\n",
       "      <td>20</td>\n",
       "      <td>3.974558e+07</td>\n",
       "      <td>[tensor(0.0030), tensor(0.0050), tensor(0.0057...</td>\n",
       "      <td>10000</td>\n",
       "      <td>1.188728e+05</td>\n",
       "      <td>2.990842e-03</td>\n",
       "    </tr>\n",
       "    <tr>\n",
       "      <th>20</th>\n",
       "      <td>Cifar10</td>\n",
       "      <td>1000</td>\n",
       "      <td>ResNet32</td>\n",
       "      <td>0.6</td>\n",
       "      <td>40</td>\n",
       "      <td>1.979884e+06</td>\n",
       "      <td>[tensor(0.0784), tensor(0.0889), tensor(0.0962...</td>\n",
       "      <td>10000</td>\n",
       "      <td>1.552120e+05</td>\n",
       "      <td>7.839449e-02</td>\n",
       "    </tr>\n",
       "    <tr>\n",
       "      <th>21</th>\n",
       "      <td>Cifar10</td>\n",
       "      <td>1000</td>\n",
       "      <td>ResNet32</td>\n",
       "      <td>0.6</td>\n",
       "      <td>60</td>\n",
       "      <td>8.513251e+05</td>\n",
       "      <td>[tensor(0.2560), tensor(0.3320), tensor(0.3330...</td>\n",
       "      <td>10000</td>\n",
       "      <td>2.179749e+05</td>\n",
       "      <td>2.560419e-01</td>\n",
       "    </tr>\n",
       "    <tr>\n",
       "      <th>22</th>\n",
       "      <td>Cifar10</td>\n",
       "      <td>1000</td>\n",
       "      <td>ResNet32</td>\n",
       "      <td>0.6</td>\n",
       "      <td>80</td>\n",
       "      <td>5.426764e+05</td>\n",
       "      <td>[tensor(0.6348), tensor(0.6632), tensor(0.7535...</td>\n",
       "      <td>10000</td>\n",
       "      <td>3.444976e+05</td>\n",
       "      <td>6.348122e-01</td>\n",
       "    </tr>\n",
       "    <tr>\n",
       "      <th>23</th>\n",
       "      <td>Cifar10</td>\n",
       "      <td>1000</td>\n",
       "      <td>ResNet32</td>\n",
       "      <td>0.6</td>\n",
       "      <td>99</td>\n",
       "      <td>9.091716e+05</td>\n",
       "      <td>[tensor(0.7508), tensor(1.2844), tensor(1.3329...</td>\n",
       "      <td>10000</td>\n",
       "      <td>6.825810e+05</td>\n",
       "      <td>7.507725e-01</td>\n",
       "    </tr>\n",
       "    <tr>\n",
       "      <th>24</th>\n",
       "      <td>Cifar10</td>\n",
       "      <td>1000</td>\n",
       "      <td>ResNet32</td>\n",
       "      <td>0.8</td>\n",
       "      <td>0</td>\n",
       "      <td>2.419432e+13</td>\n",
       "      <td>[tensor(0.), tensor(0.), tensor(0.), tensor(0....</td>\n",
       "      <td>9513</td>\n",
       "      <td>4.411828e+06</td>\n",
       "      <td>1.823498e-07</td>\n",
       "    </tr>\n",
       "    <tr>\n",
       "      <th>25</th>\n",
       "      <td>Cifar10</td>\n",
       "      <td>1000</td>\n",
       "      <td>ResNet32</td>\n",
       "      <td>0.8</td>\n",
       "      <td>20</td>\n",
       "      <td>4.372158e+15</td>\n",
       "      <td>[tensor(0.), tensor(0.), tensor(0.), tensor(0....</td>\n",
       "      <td>7631</td>\n",
       "      <td>5.054847e+08</td>\n",
       "      <td>1.156144e-07</td>\n",
       "    </tr>\n",
       "    <tr>\n",
       "      <th>26</th>\n",
       "      <td>Cifar10</td>\n",
       "      <td>1000</td>\n",
       "      <td>ResNet32</td>\n",
       "      <td>0.8</td>\n",
       "      <td>40</td>\n",
       "      <td>8.084355e+15</td>\n",
       "      <td>[tensor(0.), tensor(0.), tensor(0.), tensor(0....</td>\n",
       "      <td>7898</td>\n",
       "      <td>1.169430e+09</td>\n",
       "      <td>1.446534e-07</td>\n",
       "    </tr>\n",
       "    <tr>\n",
       "      <th>27</th>\n",
       "      <td>Cifar10</td>\n",
       "      <td>1000</td>\n",
       "      <td>ResNet32</td>\n",
       "      <td>0.8</td>\n",
       "      <td>60</td>\n",
       "      <td>4.841959e+15</td>\n",
       "      <td>[tensor(0.), tensor(0.), tensor(0.), tensor(0....</td>\n",
       "      <td>8210</td>\n",
       "      <td>7.550568e+08</td>\n",
       "      <td>1.559404e-07</td>\n",
       "    </tr>\n",
       "    <tr>\n",
       "      <th>28</th>\n",
       "      <td>Cifar10</td>\n",
       "      <td>1000</td>\n",
       "      <td>ResNet32</td>\n",
       "      <td>0.8</td>\n",
       "      <td>80</td>\n",
       "      <td>1.158649e+16</td>\n",
       "      <td>[tensor(0.), tensor(0.), tensor(0.), tensor(0....</td>\n",
       "      <td>8160</td>\n",
       "      <td>1.455651e+09</td>\n",
       "      <td>1.256335e-07</td>\n",
       "    </tr>\n",
       "    <tr>\n",
       "      <th>29</th>\n",
       "      <td>Cifar10</td>\n",
       "      <td>1000</td>\n",
       "      <td>ResNet32</td>\n",
       "      <td>0.8</td>\n",
       "      <td>99</td>\n",
       "      <td>1.410195e+16</td>\n",
       "      <td>[tensor(0.), tensor(0.), tensor(0.), tensor(0....</td>\n",
       "      <td>8253</td>\n",
       "      <td>1.679412e+09</td>\n",
       "      <td>1.190908e-07</td>\n",
       "    </tr>\n",
       "  </tbody>\n",
       "</table>\n",
       "</div>"
      ],
      "text/plain": [
       "    dataset  num_samples   network  pruned_weights  epoch      H_o_cond  \\\n",
       "0   Cifar10         1000  ResNet32             0.0      0  9.578475e+03   \n",
       "1   Cifar10         1000  ResNet32             0.0     20  5.092344e+06   \n",
       "2   Cifar10         1000  ResNet32             0.0     40  1.269568e+06   \n",
       "3   Cifar10         1000  ResNet32             0.0     60  1.074148e+06   \n",
       "4   Cifar10         1000  ResNet32             0.0     80  1.381855e+06   \n",
       "5   Cifar10         1000  ResNet32             0.0     99  8.298274e+05   \n",
       "6   Cifar10         1000  ResNet32             0.2      0  1.497921e+04   \n",
       "7   Cifar10         1000  ResNet32             0.2     20  1.835480e+07   \n",
       "8   Cifar10         1000  ResNet32             0.2     40  2.706249e+05   \n",
       "9   Cifar10         1000  ResNet32             0.2     60  1.929393e+05   \n",
       "10  Cifar10         1000  ResNet32             0.2     80  1.401515e+05   \n",
       "11  Cifar10         1000  ResNet32             0.2     99  7.941827e+04   \n",
       "12  Cifar10         1000  ResNet32             0.4      0  6.365499e+04   \n",
       "13  Cifar10         1000  ResNet32             0.4     20  1.253786e+07   \n",
       "14  Cifar10         1000  ResNet32             0.4     40  4.780888e+05   \n",
       "15  Cifar10         1000  ResNet32             0.4     60  2.699692e+05   \n",
       "16  Cifar10         1000  ResNet32             0.4     80  1.254192e+05   \n",
       "17  Cifar10         1000  ResNet32             0.4     99  7.010986e+04   \n",
       "18  Cifar10         1000  ResNet32             0.6      0  2.665015e+05   \n",
       "19  Cifar10         1000  ResNet32             0.6     20  3.974558e+07   \n",
       "20  Cifar10         1000  ResNet32             0.6     40  1.979884e+06   \n",
       "21  Cifar10         1000  ResNet32             0.6     60  8.513251e+05   \n",
       "22  Cifar10         1000  ResNet32             0.6     80  5.426764e+05   \n",
       "23  Cifar10         1000  ResNet32             0.6     99  9.091716e+05   \n",
       "24  Cifar10         1000  ResNet32             0.8      0  2.419432e+13   \n",
       "25  Cifar10         1000  ResNet32             0.8     20  4.372158e+15   \n",
       "26  Cifar10         1000  ResNet32             0.8     40  8.084355e+15   \n",
       "27  Cifar10         1000  ResNet32             0.8     60  4.841959e+15   \n",
       "28  Cifar10         1000  ResNet32             0.8     80  1.158649e+16   \n",
       "29  Cifar10         1000  ResNet32             0.8     99  1.410195e+16   \n",
       "\n",
       "                                         H_o_spectrum  H_o_rank  \\\n",
       "0   [tensor(94.8110), tensor(95.9079), tensor(96.6...     10000   \n",
       "1   [tensor(0.0106), tensor(0.0115), tensor(0.0120...     10000   \n",
       "2   [tensor(0.0447), tensor(0.0468), tensor(0.0472...     10000   \n",
       "3   [tensor(0.0710), tensor(0.0762), tensor(0.0783...     10000   \n",
       "4   [tensor(0.0655), tensor(0.0667), tensor(0.0681...     10000   \n",
       "5   [tensor(0.0854), tensor(0.0912), tensor(0.0952...     10000   \n",
       "6   [tensor(42.0913), tensor(42.7606), tensor(43.3...     10000   \n",
       "7   [tensor(0.0044), tensor(0.0053), tensor(0.0057...     10000   \n",
       "8   [tensor(0.1649), tensor(0.1692), tensor(0.1703...     10000   \n",
       "9   [tensor(0.3856), tensor(0.3956), tensor(0.4203...     10000   \n",
       "10  [tensor(0.6908), tensor(0.8452), tensor(0.8870...     10000   \n",
       "11  [tensor(1.2191), tensor(1.3764), tensor(1.3897...     10000   \n",
       "12  [tensor(26.7330), tensor(27.1495), tensor(27.5...     10000   \n",
       "13  [tensor(0.0069), tensor(0.0076), tensor(0.0077...     10000   \n",
       "14  [tensor(0.1369), tensor(0.1439), tensor(0.1515...     10000   \n",
       "15  [tensor(0.4372), tensor(0.4471), tensor(0.4482...     10000   \n",
       "16  [tensor(0.8677), tensor(0.9988), tensor(1.0752...     10000   \n",
       "17  [tensor(2.1340), tensor(2.1889), tensor(2.3531...     10000   \n",
       "18  [tensor(5.2779), tensor(5.7981), tensor(5.9097...     10000   \n",
       "19  [tensor(0.0030), tensor(0.0050), tensor(0.0057...     10000   \n",
       "20  [tensor(0.0784), tensor(0.0889), tensor(0.0962...     10000   \n",
       "21  [tensor(0.2560), tensor(0.3320), tensor(0.3330...     10000   \n",
       "22  [tensor(0.6348), tensor(0.6632), tensor(0.7535...     10000   \n",
       "23  [tensor(0.7508), tensor(1.2844), tensor(1.3329...     10000   \n",
       "24  [tensor(0.), tensor(0.), tensor(0.), tensor(0....      9513   \n",
       "25  [tensor(0.), tensor(0.), tensor(0.), tensor(0....      7631   \n",
       "26  [tensor(0.), tensor(0.), tensor(0.), tensor(0....      7898   \n",
       "27  [tensor(0.), tensor(0.), tensor(0.), tensor(0....      8210   \n",
       "28  [tensor(0.), tensor(0.), tensor(0.), tensor(0....      8160   \n",
       "29  [tensor(0.), tensor(0.), tensor(0.), tensor(0....      8253   \n",
       "\n",
       "    lambda_max_H_o  lambda_min_H_o  \n",
       "0     9.081451e+05    9.481104e+01  \n",
       "1     5.421620e+04    1.064661e-02  \n",
       "2     5.680521e+04    4.474375e-02  \n",
       "3     7.623944e+04    7.097663e-02  \n",
       "4     9.053786e+04    6.551908e-02  \n",
       "5     7.086727e+04    8.540001e-02  \n",
       "6     6.304946e+05    4.209131e+01  \n",
       "7     8.028517e+04    4.374069e-03  \n",
       "8     4.463775e+04    1.649432e-01  \n",
       "9     7.440042e+04    3.856157e-01  \n",
       "10    9.681164e+04    6.907640e-01  \n",
       "11    9.681697e+04    1.219077e+00  \n",
       "12    1.701686e+06    2.673296e+01  \n",
       "13    8.589673e+04    6.850988e-03  \n",
       "14    6.545802e+04    1.369160e-01  \n",
       "15    1.180286e+05    4.371929e-01  \n",
       "16    1.088250e+05    8.676901e-01  \n",
       "17    1.496127e+05    2.133975e+00  \n",
       "18    1.406562e+06    5.277874e+00  \n",
       "19    1.188728e+05    2.990842e-03  \n",
       "20    1.552120e+05    7.839449e-02  \n",
       "21    2.179749e+05    2.560419e-01  \n",
       "22    3.444976e+05    6.348122e-01  \n",
       "23    6.825810e+05    7.507725e-01  \n",
       "24    4.411828e+06    1.823498e-07  \n",
       "25    5.054847e+08    1.156144e-07  \n",
       "26    1.169430e+09    1.446534e-07  \n",
       "27    7.550568e+08    1.559404e-07  \n",
       "28    1.455651e+09    1.256335e-07  \n",
       "29    1.679412e+09    1.190908e-07  "
      ]
     },
     "execution_count": 87,
     "metadata": {},
     "output_type": "execute_result"
    }
   ],
   "source": [
    "hession_info_resnet32 = pd.concat([hession_info_resnet32,hession_info_resnet32_p_w_08],ignore_index=True)\n",
    "hession_info_resnet32"
   ]
  },
  {
   "cell_type": "code",
   "execution_count": 118,
   "metadata": {},
   "outputs": [],
   "source": [
    "hession_info_resnet32.to_pickle(f\"panda_dataframes/outer_prod_hessian_information_ResNet32_pruned_weights.pkl\")"
   ]
  },
  {
   "cell_type": "code",
   "execution_count": 132,
   "metadata": {},
   "outputs": [],
   "source": [
    "spec = hession_info_resnet32.loc[4].H_o_spectrum\n",
    "spec[spec < 0] = 0\n",
    "\n",
    "rank = torch.linalg.matrix_rank(torch.diag(spec), rtol=1e-5)"
   ]
  },
  {
   "cell_type": "code",
   "execution_count": 133,
   "metadata": {},
   "outputs": [
    {
     "data": {
      "text/plain": [
       "tensor(9122)"
      ]
     },
     "execution_count": 133,
     "metadata": {},
     "output_type": "execute_result"
    }
   ],
   "source": [
    "rank"
   ]
  },
  {
   "cell_type": "code",
   "execution_count": 134,
   "metadata": {},
   "outputs": [
    {
     "data": {
      "text/plain": [
       "tensor(99921.8125)"
      ]
     },
     "execution_count": 134,
     "metadata": {},
     "output_type": "execute_result"
    }
   ],
   "source": [
    "spec[-1]/spec[-rank]"
   ]
  },
  {
   "cell_type": "code",
   "execution_count": 135,
   "metadata": {},
   "outputs": [],
   "source": [
    "spec = hession_info_resnet32.loc[19].H_o_spectrum\n",
    "spec[spec < 0] = 0\n",
    "\n",
    "rank = torch.linalg.matrix_rank(torch.diag(spec), rtol=1e-5)"
   ]
  },
  {
   "cell_type": "code",
   "execution_count": 136,
   "metadata": {},
   "outputs": [
    {
     "data": {
      "text/plain": [
       "tensor(99916.6328)"
      ]
     },
     "execution_count": 136,
     "metadata": {},
     "output_type": "execute_result"
    }
   ],
   "source": [
    "spec[-1]/spec[-rank]"
   ]
  },
  {
   "cell_type": "code",
   "execution_count": 88,
   "metadata": {},
   "outputs": [
    {
     "data": {
      "text/plain": [
       "[<matplotlib.lines.Line2D at 0x7f6b616cc410>]"
      ]
     },
     "execution_count": 88,
     "metadata": {},
     "output_type": "execute_result"
    },
    {
     "data": {
      "image/png": "[encoded data removed]",
      "text/plain": [
       "<Figure size 1000x800 with 1 Axes>"
      ]
     },
     "metadata": {},
     "output_type": "display_data"
    }
   ],
   "source": [
    "plt.semilogy(hession_info_resnet32.H_o_spectrum.iloc[4],alpha=0.5)\n",
    "plt.semilogy(hession_info_resnet32.H_o_spectrum.iloc[19],alpha=0.5)"
   ]
  },
  {
   "cell_type": "code",
   "execution_count": 137,
   "metadata": {},
   "outputs": [
    {
     "name": "stderr",
     "output_type": "stream",
     "text": [
      "/users/staff/dmi-dmi/zhao0005/anaconda3/lib/python3.11/site-packages/seaborn/axisgrid.py:118: UserWarning: The figure layout has changed to tight\n",
      "  self._figure.tight_layout(*args, **kwargs)\n"
     ]
    },
    {
     "data": {
      "image/png": "[encoded data removed]",
      "text/plain": [
       "<Figure size 717.833x500 with 1 Axes>"
      ]
     },
     "metadata": {},
     "output_type": "display_data"
    }
   ],
   "source": [
    "sns.relplot(hession_info_resnet32, x='epoch', y='H_o_rank', hue='pruned_weights', style='pruned_weights', markers=True, kind='line', palette='colorblind')\n",
    "\n",
    "plt.ylabel('rank$(H_O)$')\n",
    "\n",
    "plt.title('ResNet32, Cifar10, n=1000')\n",
    "plt.savefig('ResNet32_rank_HO.pdf', bbox_inches='tight')"
   ]
  },
  {
   "cell_type": "code",
   "execution_count": 138,
   "metadata": {},
   "outputs": [
    {
     "name": "stderr",
     "output_type": "stream",
     "text": [
      "/users/staff/dmi-dmi/zhao0005/anaconda3/lib/python3.11/site-packages/seaborn/axisgrid.py:118: UserWarning: The figure layout has changed to tight\n",
      "  self._figure.tight_layout(*args, **kwargs)\n"
     ]
    },
    {
     "data": {
      "image/png": "[encoded data removed]",
      "text/plain": [
       "<Figure size 717.833x500 with 1 Axes>"
      ]
     },
     "metadata": {},
     "output_type": "display_data"
    }
   ],
   "source": [
    "sns.relplot(hession_info_resnet32, x='epoch', y='lambda_max_H_o', hue='pruned_weights', style='pruned_weights', markers=True, kind='line', palette='colorblind')\n",
    "plt.yscale('log')\n",
    "\n",
    "\n",
    "plt.ylabel('$\\lambda_{\\max}(H_O)$')\n",
    "\n",
    "plt.title('ResNet32, Cifar10, n=1000')\n",
    "plt.savefig('ResNet32_lam_max_HO.pdf', bbox_inches='tight')"
   ]
  },
  {
   "cell_type": "code",
   "execution_count": 139,
   "metadata": {},
   "outputs": [
    {
     "name": "stderr",
     "output_type": "stream",
     "text": [
      "/users/staff/dmi-dmi/zhao0005/anaconda3/lib/python3.11/site-packages/seaborn/axisgrid.py:118: UserWarning: The figure layout has changed to tight\n",
      "  self._figure.tight_layout(*args, **kwargs)\n"
     ]
    },
    {
     "data": {
      "image/png": "[encoded data removed]",
      "text/plain": [
       "<Figure size 717.833x500 with 1 Axes>"
      ]
     },
     "metadata": {},
     "output_type": "display_data"
    }
   ],
   "source": [
    "sns.relplot(hession_info_resnet32, x='epoch', y='lambda_min_H_o', hue='pruned_weights', style='pruned_weights', markers=True, kind='line', palette='colorblind')\n",
    "\n",
    "plt.yscale('log')\n",
    "\n",
    "plt.ylabel('$\\lambda_{\\min}(H_O)$')\n",
    "\n",
    "plt.title('ResNet32, Cifar10, n=1000')\n",
    "plt.savefig('ResNet32_lam_min_HO.pdf', bbox_inches='tight')"
   ]
  },
  {
   "cell_type": "code",
   "execution_count": 140,
   "metadata": {},
   "outputs": [
    {
     "name": "stderr",
     "output_type": "stream",
     "text": [
      "/users/staff/dmi-dmi/zhao0005/anaconda3/lib/python3.11/site-packages/seaborn/axisgrid.py:118: UserWarning: The figure layout has changed to tight\n",
      "  self._figure.tight_layout(*args, **kwargs)\n"
     ]
    },
    {
     "data": {
      "image/png": "[encoded data removed]",
      "text/plain": [
       "<Figure size 717.833x500 with 1 Axes>"
      ]
     },
     "metadata": {},
     "output_type": "display_data"
    }
   ],
   "source": [
    "sns.relplot(hession_info_resnet32, x='epoch', y='H_o_cond', hue='pruned_weights', style='pruned_weights', markers=True, kind='line', palette='colorblind')\n",
    "\n",
    "plt.yscale('log')\n",
    "\n",
    "plt.ylabel('$\\kappa(H_O)$')\n",
    "\n",
    "plt.title('ResNet32, Cifar10, n=1000')\n",
    "plt.savefig('ResNet32_cond_HO.pdf', bbox_inches='tight')"
   ]
  },
  {
   "cell_type": "code",
   "execution_count": 112,
   "metadata": {},
   "outputs": [
    {
     "data": {
      "text/plain": [
       "16.0832267711864"
      ]
     },
     "execution_count": 112,
     "metadata": {},
     "output_type": "execute_result"
    }
   ],
   "source": [
    "np.log(sum((hession_info_resnet32[hession_info_resnet32['pruned_weights'] == 0.0].H_o_cond)))"
   ]
  },
  {
   "cell_type": "code",
   "execution_count": 113,
   "metadata": {},
   "outputs": [
    {
     "data": {
      "text/plain": [
       "16.762730678966136"
      ]
     },
     "execution_count": 113,
     "metadata": {},
     "output_type": "execute_result"
    }
   ],
   "source": [
    "np.log(sum((hession_info_resnet32[hession_info_resnet32['pruned_weights'] == 0.2].H_o_cond)))"
   ]
  },
  {
   "cell_type": "code",
   "execution_count": 114,
   "metadata": {},
   "outputs": [
    {
     "data": {
      "text/plain": [
       "16.421535636889278"
      ]
     },
     "execution_count": 114,
     "metadata": {},
     "output_type": "execute_result"
    }
   ],
   "source": [
    "np.log(sum((hession_info_resnet32[hession_info_resnet32['pruned_weights'] == 0.4].H_o_cond)))"
   ]
  },
  {
   "cell_type": "code",
   "execution_count": 115,
   "metadata": {},
   "outputs": [
    {
     "data": {
      "text/plain": [
       "17.606385478710195"
      ]
     },
     "execution_count": 115,
     "metadata": {},
     "output_type": "execute_result"
    }
   ],
   "source": [
    "np.log(sum((hession_info_resnet32[hession_info_resnet32['pruned_weights'] == 0.6].H_o_cond)))"
   ]
  },
  {
   "cell_type": "code",
   "execution_count": 116,
   "metadata": {},
   "outputs": [
    {
     "data": {
      "text/plain": [
       "38.30023469337831"
      ]
     },
     "execution_count": 116,
     "metadata": {},
     "output_type": "execute_result"
    }
   ],
   "source": [
    "np.log(sum((hession_info_resnet32[hession_info_resnet32['pruned_weights'] == 0.8].H_o_cond)))"
   ]
  },
  {
   "cell_type": "markdown",
   "metadata": {},
   "source": [
    "### train reset32\n"
   ]
  },
  {
   "cell_type": "code",
   "execution_count": 9,
   "metadata": {},
   "outputs": [
    {
     "name": "stdout",
     "output_type": "stream",
     "text": [
      "Files already downloaded and verified\n",
      "Files already downloaded and verified\n",
      "Files already downloaded and verified\n"
     ]
    },
    {
     "name": "stderr",
     "output_type": "stream",
     "text": [
      "Setting up a new session...\n",
      "Setting up a new session...\n"
     ]
    },
    {
     "name": "stdout",
     "output_type": "stream",
     "text": [
      "<torch.utils.data.dataset.Subset object at 0x7fd971690b90>\n"
     ]
    },
    {
     "name": "stderr",
     "output_type": "stream",
     "text": [
      "Setting up a new session...\n",
      "Setting up a new session...\n",
      "Setting up a new session...\n",
      "Setting up a new session...\n"
     ]
    },
    {
     "name": "stdout",
     "output_type": "stream",
     "text": [
      "Epoch: 1/100, lr:1.00e-01\n",
      "100%|██████████████████████████████████████████████████████████████████████████████████████████████████████████████████████████████████████████████████████| 16/16 [00:02<00:00,  5.76it/s, loss:2.2180, acc:17.0000%]\n",
      "Val loss: 4.6343, accuracy: 14.00%\n",
      "Epoch: 2/100, lr:1.00e-01\n",
      "100%|██████████████████████████████████████████████████████████████████████████████████████████████████████████████████████████████████████████████████████| 16/16 [00:03<00:00,  5.09it/s, loss:2.1867, acc:19.1000%]\n",
      "Val loss: 2.3544, accuracy: 13.60%\n",
      "Epoch: 3/100, lr:1.00e-01\n",
      "100%|██████████████████████████████████████████████████████████████████████████████████████████████████████████████████████████████████████████████████████| 16/16 [00:03<00:00,  5.12it/s, loss:2.0710, acc:20.5000%]\n",
      "Val loss: 2.1142, accuracy: 18.40%\n",
      "Epoch: 4/100, lr:1.00e-01\n",
      "100%|██████████████████████████████████████████████████████████████████████████████████████████████████████████████████████████████████████████████████████| 16/16 [00:03<00:00,  5.12it/s, loss:2.0236, acc:21.7000%]\n",
      "Val loss: 2.1666, accuracy: 22.80%\n",
      "Epoch: 5/100, lr:1.00e-01\n",
      "100%|██████████████████████████████████████████████████████████████████████████████████████████████████████████████████████████████████████████████████████| 16/16 [00:03<00:00,  4.97it/s, loss:1.9802, acc:22.8000%]\n",
      "Val loss: 1.9360, accuracy: 24.00%\n",
      "Epoch: 6/100, lr:1.00e-01\n",
      "100%|██████████████████████████████████████████████████████████████████████████████████████████████████████████████████████████████████████████████████████| 16/16 [00:03<00:00,  5.08it/s, loss:1.8874, acc:28.0000%]\n",
      "Val loss: 2.0643, accuracy: 22.80%\n",
      "Epoch: 7/100, lr:1.00e-01\n",
      "100%|██████████████████████████████████████████████████████████████████████████████████████████████████████████████████████████████████████████████████████| 16/16 [00:03<00:00,  5.19it/s, loss:1.8962, acc:27.7000%]\n",
      "Val loss: 2.2673, accuracy: 16.00%\n",
      "Epoch: 8/100, lr:1.00e-01\n",
      "100%|██████████████████████████████████████████████████████████████████████████████████████████████████████████████████████████████████████████████████████| 16/16 [00:02<00:00,  5.56it/s, loss:1.8489, acc:29.6000%]\n",
      "Val loss: 2.0040, accuracy: 23.20%\n",
      "Epoch: 9/100, lr:1.00e-01\n",
      "100%|██████████████████████████████████████████████████████████████████████████████████████████████████████████████████████████████████████████████████████| 16/16 [00:03<00:00,  5.32it/s, loss:1.7992, acc:28.9000%]\n",
      "Val loss: 1.9078, accuracy: 24.80%\n",
      "Epoch: 10/100, lr:1.00e-01\n",
      "100%|██████████████████████████████████████████████████████████████████████████████████████████████████████████████████████████████████████████████████████| 16/16 [00:02<00:00,  5.47it/s, loss:1.7759, acc:33.2000%]\n",
      "Val loss: 1.8900, accuracy: 32.80%\n",
      "Epoch: 11/100, lr:1.00e-01\n",
      "100%|██████████████████████████████████████████████████████████████████████████████████████████████████████████████████████████████████████████████████████| 16/16 [00:03<00:00,  5.17it/s, loss:1.7561, acc:34.0000%]\n",
      "Val loss: 1.9000, accuracy: 28.00%\n",
      "Epoch: 12/100, lr:1.00e-01\n",
      "100%|██████████████████████████████████████████████████████████████████████████████████████████████████████████████████████████████████████████████████████| 16/16 [00:02<00:00,  5.87it/s, loss:1.7411, acc:32.7000%]\n",
      "Val loss: 1.9629, accuracy: 32.80%\n",
      "Epoch: 13/100, lr:1.00e-01\n",
      "100%|██████████████████████████████████████████████████████████████████████████████████████████████████████████████████████████████████████████████████████| 16/16 [00:03<00:00,  5.28it/s, loss:1.7128, acc:37.5000%]\n",
      "Val loss: 1.7231, accuracy: 34.40%\n",
      "Epoch: 14/100, lr:1.00e-01\n",
      "100%|██████████████████████████████████████████████████████████████████████████████████████████████████████████████████████████████████████████████████████| 16/16 [00:03<00:00,  5.31it/s, loss:1.7043, acc:35.9000%]\n",
      "Val loss: 1.7272, accuracy: 37.20%\n",
      "Epoch: 15/100, lr:1.00e-01\n",
      "100%|██████████████████████████████████████████████████████████████████████████████████████████████████████████████████████████████████████████████████████| 16/16 [00:02<00:00,  5.49it/s, loss:1.6222, acc:39.2000%]\n",
      "Val loss: 1.8860, accuracy: 30.40%\n",
      "Epoch: 16/100, lr:1.00e-01\n",
      "100%|██████████████████████████████████████████████████████████████████████████████████████████████████████████████████████████████████████████████████████| 16/16 [00:03<00:00,  5.32it/s, loss:1.6041, acc:41.6000%]\n",
      "Val loss: 1.8674, accuracy: 32.40%\n",
      "Epoch: 17/100, lr:1.00e-01\n",
      "100%|██████████████████████████████████████████████████████████████████████████████████████████████████████████████████████████████████████████████████████| 16/16 [00:02<00:00,  5.62it/s, loss:1.6055, acc:39.0000%]\n",
      "Val loss: 2.0017, accuracy: 28.00%\n",
      "Epoch: 18/100, lr:1.00e-01\n",
      "100%|██████████████████████████████████████████████████████████████████████████████████████████████████████████████████████████████████████████████████████| 16/16 [00:02<00:00,  5.45it/s, loss:1.6038, acc:41.9000%]\n",
      "Val loss: 2.2924, accuracy: 26.80%\n",
      "Epoch: 19/100, lr:1.00e-01\n",
      "100%|██████████████████████████████████████████████████████████████████████████████████████████████████████████████████████████████████████████████████████| 16/16 [00:02<00:00,  5.68it/s, loss:1.6643, acc:37.1000%]\n",
      "Val loss: 1.7482, accuracy: 34.40%\n",
      "Epoch: 20/100, lr:1.00e-01\n",
      "100%|██████████████████████████████████████████████████████████████████████████████████████████████████████████████████████████████████████████████████████| 16/16 [00:02<00:00,  6.00it/s, loss:1.5919, acc:41.8000%]\n",
      "Val loss: 1.7321, accuracy: 35.20%\n",
      "Epoch: 21/100, lr:1.00e-01\n",
      "100%|██████████████████████████████████████████████████████████████████████████████████████████████████████████████████████████████████████████████████████| 16/16 [00:03<00:00,  5.01it/s, loss:1.5787, acc:38.7000%]\n",
      "Val loss: 1.7786, accuracy: 38.00%\n",
      "Epoch: 22/100, lr:1.00e-01\n",
      "100%|██████████████████████████████████████████████████████████████████████████████████████████████████████████████████████████████████████████████████████| 16/16 [00:02<00:00,  5.50it/s, loss:1.5467, acc:43.6000%]\n",
      "Val loss: 1.6936, accuracy: 34.40%\n",
      "Epoch: 23/100, lr:1.00e-01\n",
      "100%|██████████████████████████████████████████████████████████████████████████████████████████████████████████████████████████████████████████████████████| 16/16 [00:02<00:00,  5.42it/s, loss:1.5149, acc:43.7000%]\n",
      "Val loss: 1.6303, accuracy: 39.60%\n",
      "Epoch: 24/100, lr:1.00e-01\n",
      "100%|██████████████████████████████████████████████████████████████████████████████████████████████████████████████████████████████████████████████████████| 16/16 [00:03<00:00,  5.33it/s, loss:1.4461, acc:46.7000%]\n",
      "Val loss: 1.6803, accuracy: 37.60%\n",
      "Epoch: 25/100, lr:1.00e-01\n",
      "100%|██████████████████████████████████████████████████████████████████████████████████████████████████████████████████████████████████████████████████████| 16/16 [00:02<00:00,  5.44it/s, loss:1.4480, acc:46.2000%]\n",
      "Val loss: 1.9122, accuracy: 36.80%\n",
      "Epoch: 26/100, lr:1.00e-01\n",
      "100%|██████████████████████████████████████████████████████████████████████████████████████████████████████████████████████████████████████████████████████| 16/16 [00:02<00:00,  5.48it/s, loss:1.4939, acc:46.6000%]\n",
      "Val loss: 1.7919, accuracy: 38.00%\n",
      "Epoch: 27/100, lr:1.00e-01\n",
      "100%|██████████████████████████████████████████████████████████████████████████████████████████████████████████████████████████████████████████████████████| 16/16 [00:02<00:00,  5.87it/s, loss:1.4233, acc:47.5000%]\n",
      "Val loss: 1.7556, accuracy: 38.00%\n",
      "Epoch: 28/100, lr:1.00e-01\n",
      "100%|██████████████████████████████████████████████████████████████████████████████████████████████████████████████████████████████████████████████████████| 16/16 [00:02<00:00,  5.48it/s, loss:1.4304, acc:47.6000%]\n",
      "Val loss: 1.6859, accuracy: 38.00%\n",
      "Epoch: 29/100, lr:1.00e-01\n",
      "100%|██████████████████████████████████████████████████████████████████████████████████████████████████████████████████████████████████████████████████████| 16/16 [00:03<00:00,  5.31it/s, loss:1.4017, acc:49.7000%]\n",
      "Val loss: 1.7803, accuracy: 42.00%\n",
      "Epoch: 30/100, lr:1.00e-01\n",
      "100%|██████████████████████████████████████████████████████████████████████████████████████████████████████████████████████████████████████████████████████| 16/16 [00:03<00:00,  5.14it/s, loss:1.3580, acc:51.2000%]\n",
      "Val loss: 1.8132, accuracy: 36.80%\n",
      "Epoch: 31/100, lr:1.00e-01\n",
      "100%|██████████████████████████████████████████████████████████████████████████████████████████████████████████████████████████████████████████████████████| 16/16 [00:02<00:00,  5.41it/s, loss:1.4037, acc:48.3000%]\n",
      "Val loss: 1.7051, accuracy: 38.80%\n",
      "Epoch: 32/100, lr:1.00e-01\n",
      "100%|██████████████████████████████████████████████████████████████████████████████████████████████████████████████████████████████████████████████████████| 16/16 [00:02<00:00,  5.75it/s, loss:1.2843, acc:53.6000%]\n",
      "Val loss: 1.6273, accuracy: 41.20%\n",
      "Epoch: 33/100, lr:1.00e-01\n",
      "100%|██████████████████████████████████████████████████████████████████████████████████████████████████████████████████████████████████████████████████████| 16/16 [00:02<00:00,  5.58it/s, loss:1.3031, acc:51.4000%]\n",
      "Val loss: 1.7202, accuracy: 38.00%\n",
      "Epoch: 34/100, lr:1.00e-01\n",
      "100%|██████████████████████████████████████████████████████████████████████████████████████████████████████████████████████████████████████████████████████| 16/16 [00:03<00:00,  5.32it/s, loss:1.2835, acc:53.2000%]\n",
      "Val loss: 1.8698, accuracy: 33.60%\n",
      "Epoch: 35/100, lr:1.00e-01\n",
      "100%|██████████████████████████████████████████████████████████████████████████████████████████████████████████████████████████████████████████████████████| 16/16 [00:03<00:00,  5.18it/s, loss:1.1837, acc:57.2000%]\n",
      "Val loss: 1.7488, accuracy: 38.80%\n",
      "Epoch: 36/100, lr:1.00e-01\n",
      "100%|██████████████████████████████████████████████████████████████████████████████████████████████████████████████████████████████████████████████████████| 16/16 [00:03<00:00,  5.15it/s, loss:1.2780, acc:52.9000%]\n",
      "Val loss: 1.8146, accuracy: 38.80%\n",
      "Epoch: 37/100, lr:1.00e-01\n",
      "100%|██████████████████████████████████████████████████████████████████████████████████████████████████████████████████████████████████████████████████████| 16/16 [00:03<00:00,  5.28it/s, loss:1.2690, acc:54.4000%]\n",
      "Val loss: 1.7489, accuracy: 40.00%\n",
      "Epoch: 38/100, lr:1.00e-01\n",
      "100%|██████████████████████████████████████████████████████████████████████████████████████████████████████████████████████████████████████████████████████| 16/16 [00:03<00:00,  5.20it/s, loss:1.1816, acc:56.1000%]\n",
      "Val loss: 1.5988, accuracy: 43.60%\n",
      "Epoch: 39/100, lr:1.00e-01\n",
      "100%|██████████████████████████████████████████████████████████████████████████████████████████████████████████████████████████████████████████████████████| 16/16 [00:03<00:00,  5.15it/s, loss:1.1639, acc:57.1000%]\n",
      "Val loss: 1.8306, accuracy: 40.80%\n",
      "Epoch: 40/100, lr:1.00e-01\n",
      "100%|██████████████████████████████████████████████████████████████████████████████████████████████████████████████████████████████████████████████████████| 16/16 [00:03<00:00,  5.30it/s, loss:1.2451, acc:53.3000%]\n",
      "Val loss: 1.8547, accuracy: 38.00%\n",
      "Epoch: 41/100, lr:1.00e-01\n",
      "100%|██████████████████████████████████████████████████████████████████████████████████████████████████████████████████████████████████████████████████████| 16/16 [00:03<00:00,  5.30it/s, loss:1.1318, acc:57.9000%]\n",
      "Val loss: 1.6947, accuracy: 41.60%\n",
      "Epoch: 42/100, lr:1.00e-01\n",
      "100%|██████████████████████████████████████████████████████████████████████████████████████████████████████████████████████████████████████████████████████| 16/16 [00:03<00:00,  4.98it/s, loss:1.1077, acc:60.3000%]\n",
      "Val loss: 1.7249, accuracy: 42.40%\n",
      "Epoch: 43/100, lr:1.00e-01\n",
      "100%|██████████████████████████████████████████████████████████████████████████████████████████████████████████████████████████████████████████████████████| 16/16 [00:03<00:00,  5.09it/s, loss:1.1583, acc:58.7000%]\n",
      "Val loss: 1.7955, accuracy: 41.60%\n",
      "Epoch: 44/100, lr:1.00e-01\n",
      "100%|██████████████████████████████████████████████████████████████████████████████████████████████████████████████████████████████████████████████████████| 16/16 [00:02<00:00,  5.84it/s, loss:1.0863, acc:59.2000%]\n",
      "Val loss: 1.7254, accuracy: 42.00%\n",
      "Epoch: 45/100, lr:1.00e-01\n",
      "100%|██████████████████████████████████████████████████████████████████████████████████████████████████████████████████████████████████████████████████████| 16/16 [00:03<00:00,  4.96it/s, loss:1.0554, acc:61.3000%]\n",
      "Val loss: 1.9209, accuracy: 40.00%\n",
      "Epoch: 46/100, lr:1.00e-01\n",
      "100%|██████████████████████████████████████████████████████████████████████████████████████████████████████████████████████████████████████████████████████| 16/16 [00:02<00:00,  5.41it/s, loss:1.0632, acc:62.5000%]\n",
      "Val loss: 1.8950, accuracy: 40.40%\n",
      "Epoch: 47/100, lr:1.00e-01\n",
      "100%|██████████████████████████████████████████████████████████████████████████████████████████████████████████████████████████████████████████████████████| 16/16 [00:03<00:00,  5.21it/s, loss:1.0406, acc:63.9000%]\n",
      "Val loss: 2.0504, accuracy: 40.40%\n",
      "Epoch: 48/100, lr:1.00e-01\n",
      "100%|██████████████████████████████████████████████████████████████████████████████████████████████████████████████████████████████████████████████████████| 16/16 [00:02<00:00,  5.52it/s, loss:1.0310, acc:63.6000%]\n",
      "Val loss: 2.2085, accuracy: 35.60%\n",
      "Epoch: 49/100, lr:1.00e-01\n",
      "100%|██████████████████████████████████████████████████████████████████████████████████████████████████████████████████████████████████████████████████████| 16/16 [00:02<00:00,  5.67it/s, loss:0.9728, acc:64.7000%]\n",
      "Val loss: 1.7524, accuracy: 44.40%\n",
      "Epoch: 50/100, lr:1.00e-01\n",
      "100%|██████████████████████████████████████████████████████████████████████████████████████████████████████████████████████████████████████████████████████| 16/16 [00:02<00:00,  5.42it/s, loss:0.9608, acc:65.1000%]\n",
      "Val loss: 2.1032, accuracy: 38.00%\n",
      "Epoch: 51/100, lr:1.00e-01\n",
      "100%|██████████████████████████████████████████████████████████████████████████████████████████████████████████████████████████████████████████████████████| 16/16 [00:02<00:00,  5.74it/s, loss:0.9033, acc:67.2000%]\n",
      "Val loss: 1.9163, accuracy: 43.60%\n",
      "Epoch: 52/100, lr:1.00e-01\n",
      "100%|██████████████████████████████████████████████████████████████████████████████████████████████████████████████████████████████████████████████████████| 16/16 [00:02<00:00,  5.38it/s, loss:0.9198, acc:68.2000%]\n",
      "Val loss: 2.0363, accuracy: 41.20%\n",
      "Epoch: 53/100, lr:1.00e-01\n",
      "100%|██████████████████████████████████████████████████████████████████████████████████████████████████████████████████████████████████████████████████████| 16/16 [00:02<00:00,  5.73it/s, loss:0.9147, acc:65.9000%]\n",
      "Val loss: 2.1690, accuracy: 38.00%\n",
      "Epoch: 54/100, lr:1.00e-01\n",
      "100%|██████████████████████████████████████████████████████████████████████████████████████████████████████████████████████████████████████████████████████| 16/16 [00:02<00:00,  5.48it/s, loss:0.8951, acc:67.5000%]\n",
      "Val loss: 2.1713, accuracy: 36.00%\n",
      "Epoch: 55/100, lr:1.00e-01\n",
      "100%|██████████████████████████████████████████████████████████████████████████████████████████████████████████████████████████████████████████████████████| 16/16 [00:02<00:00,  5.51it/s, loss:0.8453, acc:71.0000%]\n",
      "Val loss: 2.1889, accuracy: 40.80%\n",
      "Epoch: 56/100, lr:1.00e-01\n",
      "100%|██████████████████████████████████████████████████████████████████████████████████████████████████████████████████████████████████████████████████████| 16/16 [00:02<00:00,  5.57it/s, loss:0.8439, acc:69.5000%]\n",
      "Val loss: 1.9937, accuracy: 40.80%\n",
      "Epoch: 57/100, lr:1.00e-01\n",
      "100%|██████████████████████████████████████████████████████████████████████████████████████████████████████████████████████████████████████████████████████| 16/16 [00:02<00:00,  5.36it/s, loss:0.8306, acc:69.4000%]\n",
      "Val loss: 2.2792, accuracy: 42.00%\n",
      "Epoch: 58/100, lr:1.00e-01\n",
      "100%|██████████████████████████████████████████████████████████████████████████████████████████████████████████████████████████████████████████████████████| 16/16 [00:03<00:00,  5.18it/s, loss:0.7385, acc:74.6000%]\n",
      "Val loss: 2.3629, accuracy: 43.60%\n",
      "Epoch: 59/100, lr:1.00e-01\n"
     ]
    },
    {
     "name": "stdout",
     "output_type": "stream",
     "text": [
      "100%|██████████████████████████████████████████████████████████████████████████████████████████████████████████████████████████████████████████████████████| 16/16 [00:03<00:00,  5.25it/s, loss:0.7830, acc:71.9000%]\n",
      "Val loss: 2.4650, accuracy: 40.80%\n",
      "Epoch: 60/100, lr:1.00e-01\n",
      "100%|██████████████████████████████████████████████████████████████████████████████████████████████████████████████████████████████████████████████████████| 16/16 [00:02<00:00,  5.43it/s, loss:0.7992, acc:70.9000%]\n",
      "Val loss: 2.2231, accuracy: 43.60%\n",
      "Epoch: 61/100, lr:1.00e-01\n",
      "100%|██████████████████████████████████████████████████████████████████████████████████████████████████████████████████████████████████████████████████████| 16/16 [00:02<00:00,  5.50it/s, loss:0.8089, acc:71.3000%]\n",
      "Val loss: 2.2851, accuracy: 41.20%\n",
      "Epoch: 62/100, lr:1.00e-01\n",
      "100%|██████████████████████████████████████████████████████████████████████████████████████████████████████████████████████████████████████████████████████| 16/16 [00:02<00:00,  5.47it/s, loss:0.7340, acc:73.0000%]\n",
      "Val loss: 2.6123, accuracy: 35.60%\n",
      "Epoch: 63/100, lr:1.00e-01\n",
      "100%|██████████████████████████████████████████████████████████████████████████████████████████████████████████████████████████████████████████████████████| 16/16 [00:03<00:00,  5.27it/s, loss:0.7160, acc:75.0000%]\n",
      "Val loss: 2.3387, accuracy: 45.20%\n",
      "Epoch: 64/100, lr:1.00e-01\n",
      "100%|██████████████████████████████████████████████████████████████████████████████████████████████████████████████████████████████████████████████████████| 16/16 [00:02<00:00,  5.64it/s, loss:0.6240, acc:77.5000%]\n",
      "Val loss: 2.2505, accuracy: 41.20%\n",
      "Epoch: 65/100, lr:1.00e-01\n",
      "100%|██████████████████████████████████████████████████████████████████████████████████████████████████████████████████████████████████████████████████████| 16/16 [00:02<00:00,  5.61it/s, loss:0.5125, acc:82.4000%]\n",
      "Val loss: 2.2136, accuracy: 42.80%\n",
      "Epoch: 66/100, lr:1.00e-01\n",
      "100%|██████████████████████████████████████████████████████████████████████████████████████████████████████████████████████████████████████████████████████| 16/16 [00:02<00:00,  5.44it/s, loss:0.5742, acc:79.7000%]\n",
      "Val loss: 2.5360, accuracy: 40.80%\n",
      "Epoch: 67/100, lr:1.00e-01\n",
      "100%|██████████████████████████████████████████████████████████████████████████████████████████████████████████████████████████████████████████████████████| 16/16 [00:02<00:00,  5.40it/s, loss:0.6461, acc:78.2000%]\n",
      "Val loss: 2.3804, accuracy: 42.40%\n",
      "Epoch: 68/100, lr:1.00e-01\n",
      "100%|██████████████████████████████████████████████████████████████████████████████████████████████████████████████████████████████████████████████████████| 16/16 [00:03<00:00,  5.30it/s, loss:0.6343, acc:77.4000%]\n",
      "Val loss: 2.5969, accuracy: 38.00%\n",
      "Epoch: 69/100, lr:1.00e-01\n",
      "100%|██████████████████████████████████████████████████████████████████████████████████████████████████████████████████████████████████████████████████████| 16/16 [00:03<00:00,  5.33it/s, loss:0.6252, acc:78.1000%]\n",
      "Val loss: 2.5437, accuracy: 39.60%\n",
      "Epoch: 70/100, lr:1.00e-01\n",
      "100%|██████████████████████████████████████████████████████████████████████████████████████████████████████████████████████████████████████████████████████| 16/16 [00:02<00:00,  5.34it/s, loss:0.5823, acc:78.7000%]\n",
      "Val loss: 2.9505, accuracy: 40.00%\n",
      "Epoch: 71/100, lr:1.00e-01\n",
      "100%|██████████████████████████████████████████████████████████████████████████████████████████████████████████████████████████████████████████████████████| 16/16 [00:03<00:00,  5.00it/s, loss:0.5249, acc:81.6000%]\n",
      "Val loss: 2.3093, accuracy: 46.80%\n",
      "Epoch: 72/100, lr:1.00e-01\n",
      "100%|██████████████████████████████████████████████████████████████████████████████████████████████████████████████████████████████████████████████████████| 16/16 [00:02<00:00,  5.40it/s, loss:0.4961, acc:83.3000%]\n",
      "Val loss: 2.7589, accuracy: 40.80%\n",
      "Epoch: 73/100, lr:1.00e-01\n",
      "100%|██████████████████████████████████████████████████████████████████████████████████████████████████████████████████████████████████████████████████████| 16/16 [00:02<00:00,  5.43it/s, loss:0.5240, acc:84.1000%]\n",
      "Val loss: 2.8616, accuracy: 37.60%\n",
      "Epoch: 74/100, lr:1.00e-01\n",
      "100%|██████████████████████████████████████████████████████████████████████████████████████████████████████████████████████████████████████████████████████| 16/16 [00:03<00:00,  5.26it/s, loss:0.5814, acc:79.3000%]\n",
      "Val loss: 2.8223, accuracy: 43.20%\n",
      "Epoch: 75/100, lr:1.00e-01\n",
      "100%|██████████████████████████████████████████████████████████████████████████████████████████████████████████████████████████████████████████████████████| 16/16 [00:03<00:00,  5.09it/s, loss:0.5840, acc:79.2000%]\n",
      "Val loss: 2.7669, accuracy: 39.20%\n",
      "Epoch: 76/100, lr:1.00e-01\n",
      "100%|██████████████████████████████████████████████████████████████████████████████████████████████████████████████████████████████████████████████████████| 16/16 [00:02<00:00,  5.50it/s, loss:0.4758, acc:84.5000%]\n",
      "Val loss: 2.7378, accuracy: 39.20%\n",
      "Epoch: 77/100, lr:1.00e-01\n",
      "100%|██████████████████████████████████████████████████████████████████████████████████████████████████████████████████████████████████████████████████████| 16/16 [00:02<00:00,  5.52it/s, loss:0.4915, acc:83.7000%]\n",
      "Val loss: 3.4775, accuracy: 38.80%\n",
      "Epoch: 78/100, lr:1.00e-01\n",
      "100%|██████████████████████████████████████████████████████████████████████████████████████████████████████████████████████████████████████████████████████| 16/16 [00:03<00:00,  4.84it/s, loss:0.4593, acc:84.6000%]\n",
      "Val loss: 2.6935, accuracy: 41.60%\n",
      "Epoch: 79/100, lr:1.00e-01\n",
      "100%|██████████████████████████████████████████████████████████████████████████████████████████████████████████████████████████████████████████████████████| 16/16 [00:02<00:00,  5.39it/s, loss:0.4569, acc:84.5000%]\n",
      "Val loss: 2.8970, accuracy: 39.60%\n",
      "Epoch: 80/100, lr:1.00e-01\n",
      "100%|██████████████████████████████████████████████████████████████████████████████████████████████████████████████████████████████████████████████████████| 16/16 [00:03<00:00,  5.32it/s, loss:0.3776, acc:86.6000%]\n",
      "Val loss: 2.4829, accuracy: 43.20%\n",
      "Epoch: 81/100, lr:1.00e-01\n",
      "100%|██████████████████████████████████████████████████████████████████████████████████████████████████████████████████████████████████████████████████████| 16/16 [00:03<00:00,  5.32it/s, loss:0.3317, acc:89.1000%]\n",
      "Val loss: 3.5034, accuracy: 34.80%\n",
      "Epoch: 82/100, lr:1.00e-01\n",
      "100%|██████████████████████████████████████████████████████████████████████████████████████████████████████████████████████████████████████████████████████| 16/16 [00:03<00:00,  5.30it/s, loss:0.3799, acc:87.2000%]\n",
      "Val loss: 3.5460, accuracy: 36.80%\n",
      "Epoch: 83/100, lr:1.00e-01\n",
      "100%|██████████████████████████████████████████████████████████████████████████████████████████████████████████████████████████████████████████████████████| 16/16 [00:02<00:00,  5.33it/s, loss:0.4215, acc:86.2000%]\n",
      "Val loss: 2.9698, accuracy: 41.20%\n",
      "Epoch: 84/100, lr:1.00e-01\n",
      "100%|██████████████████████████████████████████████████████████████████████████████████████████████████████████████████████████████████████████████████████| 16/16 [00:03<00:00,  5.12it/s, loss:0.4229, acc:84.4000%]\n",
      "Val loss: 2.9960, accuracy: 46.40%\n",
      "Epoch: 85/100, lr:1.00e-01\n",
      "100%|██████████████████████████████████████████████████████████████████████████████████████████████████████████████████████████████████████████████████████| 16/16 [00:02<00:00,  5.54it/s, loss:0.4117, acc:84.9000%]\n",
      "Val loss: 2.6912, accuracy: 42.40%\n",
      "Epoch: 86/100, lr:1.00e-01\n",
      "100%|██████████████████████████████████████████████████████████████████████████████████████████████████████████████████████████████████████████████████████| 16/16 [00:02<00:00,  5.37it/s, loss:0.3908, acc:85.7000%]\n",
      "Val loss: 2.8052, accuracy: 44.00%\n",
      "Epoch: 87/100, lr:1.00e-01\n",
      "100%|██████████████████████████████████████████████████████████████████████████████████████████████████████████████████████████████████████████████████████| 16/16 [00:03<00:00,  4.96it/s, loss:0.3140, acc:88.8000%]\n",
      "Val loss: 2.7844, accuracy: 42.40%\n",
      "Epoch: 88/100, lr:1.00e-01\n",
      "100%|██████████████████████████████████████████████████████████████████████████████████████████████████████████████████████████████████████████████████████| 16/16 [00:02<00:00,  5.42it/s, loss:0.3017, acc:89.7000%]\n",
      "Val loss: 2.7357, accuracy: 47.60%\n",
      "Epoch: 89/100, lr:1.00e-01\n",
      "100%|██████████████████████████████████████████████████████████████████████████████████████████████████████████████████████████████████████████████████████| 16/16 [00:03<00:00,  5.28it/s, loss:0.3291, acc:87.8000%]\n",
      "Val loss: 3.2930, accuracy: 42.40%\n",
      "Epoch: 90/100, lr:1.00e-01\n",
      "100%|██████████████████████████████████████████████████████████████████████████████████████████████████████████████████████████████████████████████████████| 16/16 [00:03<00:00,  5.32it/s, loss:0.3229, acc:89.2000%]\n",
      "Val loss: 3.6771, accuracy: 44.80%\n",
      "Epoch: 91/100, lr:1.00e-01\n",
      "100%|██████████████████████████████████████████████████████████████████████████████████████████████████████████████████████████████████████████████████████| 16/16 [00:02<00:00,  5.40it/s, loss:0.2437, acc:91.9000%]\n",
      "Val loss: 2.9241, accuracy: 43.20%\n",
      "Epoch: 92/100, lr:1.00e-02\n",
      "100%|██████████████████████████████████████████████████████████████████████████████████████████████████████████████████████████████████████████████████████| 16/16 [00:03<00:00,  5.19it/s, loss:0.1385, acc:95.8000%]\n",
      "Val loss: 2.8976, accuracy: 44.40%\n",
      "Epoch: 93/100, lr:1.00e-02\n",
      "100%|██████████████████████████████████████████████████████████████████████████████████████████████████████████████████████████████████████████████████████| 16/16 [00:03<00:00,  5.21it/s, loss:0.1159, acc:97.1000%]\n",
      "Val loss: 2.8417, accuracy: 44.40%\n",
      "Epoch: 94/100, lr:1.00e-02\n",
      "100%|██████████████████████████████████████████████████████████████████████████████████████████████████████████████████████████████████████████████████████| 16/16 [00:02<00:00,  5.37it/s, loss:0.0856, acc:98.2000%]\n",
      "Val loss: 2.8304, accuracy: 45.60%\n",
      "Epoch: 95/100, lr:1.00e-02\n",
      "100%|██████████████████████████████████████████████████████████████████████████████████████████████████████████████████████████████████████████████████████| 16/16 [00:02<00:00,  5.49it/s, loss:0.0833, acc:97.7000%]\n",
      "Val loss: 2.8445, accuracy: 46.00%\n",
      "Epoch: 96/100, lr:1.00e-02\n",
      "100%|██████████████████████████████████████████████████████████████████████████████████████████████████████████████████████████████████████████████████████| 16/16 [00:03<00:00,  5.20it/s, loss:0.0729, acc:98.6000%]\n",
      "Val loss: 2.8368, accuracy: 45.20%\n",
      "Epoch: 97/100, lr:1.00e-02\n",
      "100%|██████████████████████████████████████████████████████████████████████████████████████████████████████████████████████████████████████████████████████| 16/16 [00:03<00:00,  5.08it/s, loss:0.0719, acc:98.0000%]\n",
      "Val loss: 2.8168, accuracy: 46.40%\n",
      "Epoch: 98/100, lr:1.00e-02\n",
      "100%|██████████████████████████████████████████████████████████████████████████████████████████████████████████████████████████████████████████████████████| 16/16 [00:02<00:00,  5.38it/s, loss:0.0533, acc:99.4000%]\n",
      "Val loss: 2.8165, accuracy: 45.60%\n",
      "Epoch: 99/100, lr:1.00e-02\n",
      "100%|██████████████████████████████████████████████████████████████████████████████████████████████████████████████████████████████████████████████████████| 16/16 [00:02<00:00,  5.35it/s, loss:0.0525, acc:98.5000%]\n",
      "Val loss: 2.8548, accuracy: 44.40%\n",
      "Epoch: 100/100, lr:1.00e-02\n",
      "100%|██████████████████████████████████████████████████████████████████████████████████████████████████████████████████████████████████████████████████████| 16/16 [00:02<00:00,  5.45it/s, loss:0.0525, acc:99.1000%]\n",
      "Val loss: 2.8886, accuracy: 44.80%\n",
      "Test loss: 2.8640, accuracy: 46.56%\n",
      "CPU times: user 2h 2min 52s, sys: 1h 4min 15s, total: 3h 7min 7s\n",
      "Wall time: 7min 40s\n"
     ]
    }
   ],
   "source": [
    "%%time\n",
    "opt = optim.SGD(model.parameters(), lr=1e-1, momentum=0.9, weight_decay=1e-4, nesterov=False)\n",
    "loss_fn = F.cross_entropy\n",
    "\n",
    "lr_scheduler= optim.lr_scheduler.MultiStepLR(opt, milestones=[91, 137], gamma=0.1)\n",
    "history = main(model, opt, epoch=100, loss_fn=loss_fn, model_name='resnet32', pruned_weights=0.0, lr_scheduler=lr_scheduler)"
   ]
  },
  {
   "cell_type": "markdown",
   "metadata": {},
   "source": [
    "# plot loss history\n",
    "We check the classifier by plotting the loss and acc."
   ]
  },
  {
   "cell_type": "code",
   "execution_count": 4,
   "metadata": {},
   "outputs": [
    {
     "ename": "NameError",
     "evalue": "name 'history' is not defined",
     "output_type": "error",
     "traceback": [
      "\u001b[0;31m---------------------------------------------------------------------------\u001b[0m",
      "\u001b[0;31mNameError\u001b[0m                                 Traceback (most recent call last)",
      "\u001b[0;32m<ipython-input-4-a8489d1127d4>\u001b[0m in \u001b[0;36m<module>\u001b[0;34m()\u001b[0m\n\u001b[0;32m----> 1\u001b[0;31m \u001b[0mplot_history\u001b[0m\u001b[0;34m(\u001b[0m\u001b[0mhistory\u001b[0m\u001b[0;34m)\u001b[0m\u001b[0;34m\u001b[0m\u001b[0m\n\u001b[0m",
      "\u001b[0;31mNameError\u001b[0m: name 'history' is not defined"
     ]
    }
   ],
   "source": [
    "plot_history(history)"
   ]
  }
 ],
 "metadata": {
  "kernelspec": {
   "display_name": "Python 3 (ipykernel)",
   "language": "python",
   "name": "python3"
  },
  "language_info": {
   "codemirror_mode": {
    "name": "ipython",
    "version": 3
   },
   "file_extension": ".py",
   "mimetype": "text/x-python",
   "name": "python",
   "nbconvert_exporter": "python",
   "pygments_lexer": "ipython3",
   "version": "3.11.5"
  }
 },
 "nbformat": 4,
 "nbformat_minor": 1
}
